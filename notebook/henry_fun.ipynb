{
 "cells": [
  {
   "cell_type": "code",
   "execution_count": null,
   "metadata": {},
   "outputs": [],
   "source": [
    "%matplotlib inline\n",
    "import matplotlib.pyplot as plt\n",
    "import numpy as np\n",
    "from henry import henryfun"
   ]
  },
  {
   "cell_type": "code",
   "execution_count": null,
   "metadata": {},
   "outputs": [],
   "source": [
    "model_ws = './work/henryfun'\n",
    "dmcoef = 1.629\n",
    "nlay = 20\n",
    "ncol = 40"
   ]
  },
  {
   "cell_type": "code",
   "execution_count": null,
   "metadata": {
    "scrolled": false
   },
   "outputs": [],
   "source": [
    "dmcoef = np.linspace(0.0, 4, 20)\n",
    "chdresults = []\n",
    "concresults = []\n",
    "for d in dmcoef:\n",
    "    print('testing dmcoef = {}'.format(d))\n",
    "    conc, chdinflow = henryfun(model_ws, d, nlay, ncol)\n",
    "    chdresults.append(chdinflow)\n",
    "    concresults.append(conc)"
   ]
  },
  {
   "cell_type": "code",
   "execution_count": null,
   "metadata": {},
   "outputs": [],
   "source": [
    "plt.plot(dmcoef, chdresults, 'bo-')"
   ]
  },
  {
   "cell_type": "code",
   "execution_count": null,
   "metadata": {},
   "outputs": [],
   "source": [
    "c = np.flipud(concresults[0][:, 0, :])\n",
    "for c in concresults:\n",
    "    c = np.flipud(c[:, 0, :])\n",
    "    plt.contour(c, levels=[17.5])\n"
   ]
  },
  {
   "cell_type": "code",
   "execution_count": null,
   "metadata": {},
   "outputs": [],
   "source": []
  }
 ],
 "metadata": {
  "kernelspec": {
   "display_name": "Python 3",
   "language": "python",
   "name": "python3"
  },
  "language_info": {
   "codemirror_mode": {
    "name": "ipython",
    "version": 3
   },
   "file_extension": ".py",
   "mimetype": "text/x-python",
   "name": "python",
   "nbconvert_exporter": "python",
   "pygments_lexer": "ipython3",
   "version": "3.6.5"
  }
 },
 "nbformat": 4,
 "nbformat_minor": 2
}
