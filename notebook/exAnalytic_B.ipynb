{
 "cells": [
  {
   "cell_type": "markdown",
   "metadata": {},
   "source": [
    "![alt text](./img/header.png)\n",
    "\n",
    "# Analytic Solution Exercise B\n",
    "## Interface flow towards the coast\n",
    "### Mark Bakker"
   ]
  },
  {
   "cell_type": "markdown",
   "metadata": {},
   "source": [
    "The purpose of this exercise is to ..."
   ]
  },
  {
   "cell_type": "markdown",
   "metadata": {},
   "source": [
    "### Interface flow towards the coast\n",
    "Flow is confined below the land and semi-confined below the sea. The leaky sea bottom extends a distance $L$ below the sea. The freshwater is moving and the saltwater is at rest.\n",
    "![](./img/semi_coast_layout.png)\n",
    "Input variable:\n",
    "* `k`: hydraulic conductivity [m/d]\n",
    "* `H`: aquifer thickness [m]\n",
    "* `c`: resistance of leaky layer [d]\n",
    "* `grad`: absolute value of head gradient towards coast upstream of interface toe\n",
    "* `rhof`: density of fresh water [kg/m3]\n",
    "* `rhos`: density of salt water [kg/m3]\n",
    "* `L`: length of leaky sea bottom below sea (may also be `inf`) [m]\n",
    "* `ztop`: elevation of top of aquifer with respect to datum [m]\n",
    "* `sealevel`: elevation of sealevel with respect to datum [m]"
   ]
  },
  {
   "cell_type": "markdown",
   "metadata": {},
   "source": [
    "### Setup Notebook"
   ]
  },
  {
   "cell_type": "code",
   "execution_count": null,
   "metadata": {
    "collapsed": false
   },
   "outputs": [],
   "source": [
    "from __future__ import division\n",
    "from __future__ import print_function\n",
    "import warnings\n",
    "warnings.filterwarnings(\"ignore\")\n",
    "from pylab import *\n",
    "%matplotlib notebook\n",
    "from semi_interface import *"
   ]
  },
  {
   "cell_type": "markdown",
   "metadata": {},
   "source": [
    "### Specify gradient towards the coast"
   ]
  },
  {
   "cell_type": "code",
   "execution_count": null,
   "metadata": {
    "collapsed": false
   },
   "outputs": [],
   "source": [
    "sc1 = SemiCoast(k=10, H=10, c=100, grad=0.0005, rhof=1000, rhos=1025, L=inf, ztop=-10, sealevel=0.5)\n",
    "print('toe of interface at:', sc1.toe())\n",
    "print('tip of interface at:', sc1.tip())\n",
    "sc1.plot(xmin=-500, xmax=300)"
   ]
  },
  {
   "cell_type": "code",
   "execution_count": null,
   "metadata": {
    "collapsed": false
   },
   "outputs": [],
   "source": [
    "sc2 = SemiCoast(k=10, H=10, c=100, grad=0.00025, rhof=1000, rhos=1025, L=inf, ztop=-10, sealevel=0)\n",
    "sc2.plot(newfig=False)"
   ]
  },
  {
   "cell_type": "markdown",
   "metadata": {},
   "source": [
    "### Exercise 1\n",
    "Determine the gradient such that the toe is at 1000 m inland of the coast.\n",
    "\n",
    "Determine the gradient such that the toe is at the coast line\n",
    "\n",
    "Raise the sealevel by 0.5 m. What is the effect of sealevel rise on the interface?"
   ]
  },
  {
   "cell_type": "code",
   "execution_count": null,
   "metadata": {
    "collapsed": false
   },
   "outputs": [],
   "source": []
  },
  {
   "cell_type": "markdown",
   "metadata": {},
   "source": [
    "### Specify the inland head rather than the gradient"
   ]
  },
  {
   "cell_type": "code",
   "execution_count": null,
   "metadata": {
    "collapsed": false
   },
   "outputs": [],
   "source": [
    "sch1 = SemiCoastHead(k=10, H=10, c=100, x=-1000, h=1, rhof=1000, rhos=1025, L=inf, ztop=-10, sealevel=0.5)\n",
    "print('toe of interface at:', sch1.toe())\n",
    "print('tip of interface at:', sch1.tip())\n",
    "print('computed gradient:', sch1.grad)\n",
    "sch1.plot(xmin=-1250, xmax=300)"
   ]
  },
  {
   "cell_type": "markdown",
   "metadata": {},
   "source": [
    "### Exercise 2\n",
    "\n",
    "Determine and plot the interface when the head at $x=-1000$ m is $h=2$ m.\n",
    "\n",
    "Determine the effect of raising the sealevel by 1 m."
   ]
  },
  {
   "cell_type": "code",
   "execution_count": null,
   "metadata": {
    "collapsed": false
   },
   "outputs": [],
   "source": []
  },
  {
   "cell_type": "code",
   "execution_count": null,
   "metadata": {
    "collapsed": false
   },
   "outputs": [],
   "source": []
  },
  {
   "cell_type": "code",
   "execution_count": null,
   "metadata": {
    "collapsed": true
   },
   "outputs": [],
   "source": []
  }
 ],
 "metadata": {
  "kernelspec": {
   "display_name": "Python 3",
   "language": "python",
   "name": "python3"
  },
  "language_info": {
   "codemirror_mode": {
    "name": "ipython",
    "version": 3
   },
   "file_extension": ".py",
   "mimetype": "text/x-python",
   "name": "python",
   "nbconvert_exporter": "python",
   "pygments_lexer": "ipython3",
   "version": "3.5.1"
  },
  "widgets": {
   "state": {},
   "version": "1.1.2"
  }
 },
 "nbformat": 4,
 "nbformat_minor": 0
}
