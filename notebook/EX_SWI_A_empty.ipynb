{
 "cells": [
  {
   "cell_type": "code",
   "execution_count": null,
   "metadata": {},
   "outputs": [],
   "source": [
    "%matplotlib inline\n",
    "import flopy.modflow as mfl\n",
    "import flopy.utils as fut\n",
    "import numpy as np\n",
    "import matplotlib.pyplot as plt\n",
    "import config"
   ]
  },
  {
   "cell_type": "markdown",
   "metadata": {},
   "source": [
    "# SWI2 FloPy Island Function\n",
    "\n"
   ]
  },
  {
   "cell_type": "markdown",
   "metadata": {},
   "source": [
    "### Interface flow below a long island\n",
    "Consider steady interface flow below a long island. A cross-section across the island is shown in the figure. The width of the island is equal to $2W$. Flow is unconfined. Heads and elevations are measured with respect to mean sea level. The hydraulic conductivity of the aquifer is $k$. Groundwater recharge is equal to $N$.  \n",
    "\n",
    "![](./img/island_interface.png)\n",
    "\n",
    "Input variables:\n",
    "* `k`: hydraulic conductivity [m/d]\n",
    "* `D`: depth of impermeable bottom of aquifer [m]\n",
    "* `c`: resistance of leaky sea bottom [d] (zero if no resistance)\n",
    "* `rhof`: density of fresh water [kg/m$^3$]\n",
    "* `rhos`: density of salt water [kg/m$^3$]\n",
    "* `W`: half the width of the island [m]\n",
    "* `N`: recharge rate [m/d]"
   ]
  },
  {
   "cell_type": "code",
   "execution_count": null,
   "metadata": {},
   "outputs": [],
   "source": [
    "def island(nland, botm = -20, nsea=50,N=0.002, Q=0,zetainit=None,perlen=5000, nstp=500, tipslope=0.05,cland=40, delr = 5.,csea = 10\n",
    "):\n",
    "    ml = mfl.Modflow('gdansk', version='mf2005', exe_name=config.mfexe, model_ws='./data')\n",
    "    # model dimensions\n",
    "    nlay = 1\n",
    "    nrow = 1\n",
    "    ncol = nsea + nland + nsea\n",
    "    delc = 1.\n",
    "    nper, perlen, nstp = 1, perlen, nstp\n",
    "    discret = mfl.ModflowDis(ml, nlay=nlay, nrow=nrow, ncol=ncol, delr=delr, delc=delc,\n",
    "                             top=0, botm=botm, steady=True, nper=nper, perlen=perlen, nstp=nstp)\n",
    "    x = np.arange(0, ncol * delr, delr) - (ncol - 1) / 2 * delr\n",
    "    # Basic Package\n",
    "    ibound = np.ones((nlay, nrow, ncol))\n",
    "    bas = mfl.ModflowBas(ml, ibound=ibound, strt=0.0)\n",
    "    # LPF Package\n",
    "    lpf = mfl.ModflowLpf(ml, hk=20., laytyp=0, layavg=0, layvka=1)\n",
    "    # WELL Package\n",
    "    if zetainit is not None:\n",
    "        wel = mfl.ModflowWel(ml, stress_period_data = {0:[[0, 0, int((ncol - 1) / 2), -Q]]} )\n",
    "    # Recharge on land\n",
    "    rech = np.zeros((nrow, ncol))\n",
    "    rech[0, nsea:nsea + nland] = N\n",
    "    rch = mfl.ModflowRch(ml, rech=rech)\n",
    " \n",
    "\n",
    "    # General head Boundary in the Sea\n",
    "    lrchc = np.zeros((2 * nsea, 5))\n",
    "    lrchc[:, 0] = 0\n",
    "    lrchc[:, 1] = 0\n",
    "    lrchc[:, 2] = np.hstack((np.arange(nsea), np.arange(nsea + nland, 2 * nsea + nland)))\n",
    "    lrchc[:, 3] = 0.\n",
    "    lrchc[:, 4] = delr * delc / csea\n",
    "    ghb_data = {0:lrchc}\n",
    "    ghb = mfl.ModflowGhb(ml, stress_period_data=ghb_data)\n",
    "\n",
    "    # Output Control and Solver\n",
    "    oc = mfl.ModflowOc(ml, save_every=1)\n",
    "    pcg = mfl.ModflowPcg(ml)\n",
    "    \n",
    "    # SWI2\n",
    "    if zetainit is None:\n",
    "        z = np.zeros((nrow, ncol))\n",
    "        z[0, nsea-14:nsea+14] = np.linspace(0, -28, 28)\n",
    "        z[0, -nsea-14:-nsea+14] = np.linspace(-28, 0, 28)\n",
    "        z[0, nsea+14: -nsea-14] = -28\n",
    "        z = nlay * [z]\n",
    "    else:\n",
    "        z = [zetainit]\n",
    "    isource = -2*np.ones((nrow, ncol), np.int)\n",
    "    isource[0, nsea:nsea + nland] = 1\n",
    "   \n",
    "    \n",
    "    #isource[nsea:nland+nsea]=1\n",
    "    #\n",
    "    swi = mfl.ModflowSwi2(ml, nsrf=1, istrat=1, \n",
    "                          toeslope=0.05, tipslope=tipslope, nu=[0, 0.025],\n",
    "                          zeta=z, ssz=0.2, isource=isource, \n",
    "                          nsolver=1, iswizt=55)\n",
    "    # Write and Run\n",
    "    ml.write_input()\n",
    "    ml.run_model(silent=True)\n",
    "    # read model heads\n",
    "    hfile = fut.HeadFile('./data/gdansk.hds')\n",
    "    head = hfile.get_alldata()\n",
    "    # read model zeta array[nt, nlay, nrow]\n",
    "    zfile = fut.CellBudgetFile('./data/gdansk.zta')\n",
    "    kstpkper = zfile.get_kstpkper()\n",
    "    zeta = []\n",
    "    for kk in kstpkper:\n",
    "        zeta.append(zfile.get_data(kstpkper=kk, text='ZETASRF  1')[0])\n",
    "    zeta = np.array(zeta)\n",
    "    return x, zeta, head"
   ]
  },
  {
   "cell_type": "markdown",
   "metadata": {},
   "source": [
    "## demo: using the island function\n",
    "1) Specify the island dimensions\n",
    "\n",
    "2) Call the function specifying recharge timesteps and optional swi parameters\n",
    "\n",
    "3) plot the result"
   ]
  },
  {
   "cell_type": "code",
   "execution_count": null,
   "metadata": {},
   "outputs": [],
   "source": [
    "# model dimensions cells\n",
    "nland = 301\n",
    "nsea = 50\n",
    "\n",
    "# calculate SWI2 solution\n",
    "x, zetainit, hinit = island(nland=nland, N=0.002, nsea=nsea, perlen=1000, nstp=20, tipslope=0.02)\n",
    "\n",
    "plt.figure(figsize=(16, 4))\n",
    "for i in range(10):\n",
    "    plt.plot(x, zetainit[i, 0, 0], 'gray')\n",
    "# plot starting interface\n",
    "plt.plot(x, zetainit[0, 0, 0], 'b')\n",
    "# plot final interface\n",
    "plt.plot(x, zetainit[-1, 0, 0], 'r')    \n",
    "plt.figure(figsize=(16, 4))\n",
    "plt.subplot(121)\n",
    "m = int((len(hinit[0, 0 ,0]) - 1) / 2)\n",
    "plt.plot(hinit[:, 0, 0, m])\n",
    "plt.title('head at center')\n",
    "plt.subplot(122)\n",
    "plt.title('zeta at the coast')\n",
    "plt.plot(zetainit[:, 0, 0, nsea])\n",
    "\n"
   ]
  },
  {
   "cell_type": "code",
   "execution_count": null,
   "metadata": {},
   "outputs": [],
   "source": []
  },
  {
   "cell_type": "markdown",
   "metadata": {},
   "source": [
    "## demo: using the island function\n",
    "how to specify the starting interface"
   ]
  },
  {
   "cell_type": "code",
   "execution_count": null,
   "metadata": {},
   "outputs": [],
   "source": [
    "# model dimensions cells\n",
    "nland = 301\n",
    "nsea = 50\n",
    "#copy last zeta from previous simulation\n",
    "z0 = zetainit[-1].copy()\n",
    "# calculate SWI2 solution\n",
    "x, zetacheck, hcheck = island(zetainit=z0,nland=nland, N=0.002, nsea=nsea, perlen=10000, nstp=200, tipslope=0.02)\n",
    "\n",
    "plt.figure(figsize=(16, 4))\n",
    "for i in range(100):\n",
    "    plt.plot(x, zetacheck[i, 0, 0], 'gray')\n",
    "# plot starting interface\n",
    "plt.plot(x, zetacheck[0, 0, 0], 'b')\n",
    "# plot final interface\n",
    "plt.plot(x, zetacheck[-1, 0, 0], 'r')    \n",
    "\n",
    "\n",
    "plt.figure(figsize=(16, 4))\n",
    "plt.subplot(121)\n",
    "m = int((len(hcheck[0, 0 ,0]) - 1) / 2)\n",
    "plt.plot(hcheck[:, 0, 0, m])\n",
    "plt.title('head at center')\n",
    "plt.subplot(122)\n",
    "plt.title('zeta at the coast')\n",
    "plt.plot(zetacheck[:, 0, 0, nsea])\n",
    "\n"
   ]
  },
  {
   "cell_type": "markdown",
   "metadata": {},
   "source": [
    "## demo: comparing with the analytical solution\n",
    "Call yesterdays islandinterface function\n",
    "plot the result \n",
    "add the final zeta to the plot\n",
    "adjust the xlimits"
   ]
  },
  {
   "cell_type": "code",
   "execution_count": null,
   "metadata": {},
   "outputs": [],
   "source": [
    "# lets do this together....\n"
   ]
  },
  {
   "cell_type": "markdown",
   "metadata": {},
   "source": [
    "### exercise 1: using the island function\n"
   ]
  },
  {
   "cell_type": "markdown",
   "metadata": {},
   "source": [
    "1a) calculate the width of the island in the demo model "
   ]
  },
  {
   "cell_type": "code",
   "execution_count": null,
   "metadata": {},
   "outputs": [],
   "source": []
  },
  {
   "cell_type": "markdown",
   "metadata": {},
   "source": [
    "1b) Approx. how many days does it take before the head and interface are in equilibrium?  \n"
   ]
  },
  {
   "cell_type": "code",
   "execution_count": null,
   "metadata": {},
   "outputs": [],
   "source": []
  },
  {
   "cell_type": "markdown",
   "metadata": {},
   "source": [
    "1c) Compare the SWI equilibrium with the analytical solution for the same case with a recharge of 0.001 m/d   \n"
   ]
  },
  {
   "cell_type": "code",
   "execution_count": null,
   "metadata": {},
   "outputs": [],
   "source": []
  },
  {
   "cell_type": "markdown",
   "metadata": {},
   "source": [
    "1d) now simulate and show the interface evolving from the 0.002 equilibrium to the 0.001 equilibrium show the result in a cross section,  "
   ]
  },
  {
   "cell_type": "code",
   "execution_count": null,
   "metadata": {},
   "outputs": [],
   "source": []
  }
 ],
 "metadata": {
  "kernelspec": {
   "display_name": "Python 3",
   "language": "python",
   "name": "python3"
  },
  "language_info": {
   "codemirror_mode": {
    "name": "ipython",
    "version": 3
   },
   "file_extension": ".py",
   "mimetype": "text/x-python",
   "name": "python",
   "nbconvert_exporter": "python",
   "pygments_lexer": "ipython3",
   "version": "3.6.5"
  },
  "widgets": {
   "state": {},
   "version": "1.1.2"
  }
 },
 "nbformat": 4,
 "nbformat_minor": 2
}
