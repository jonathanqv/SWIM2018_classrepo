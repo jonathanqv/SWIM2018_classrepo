{
 "cells": [
  {
   "cell_type": "markdown",
   "metadata": {},
   "source": [
    "![alt text](./img/header.png)\n",
    "\n",
    "# Exercise D: Calculation of Interface Flow with the Strack Potential"
   ]
  },
  {
   "cell_type": "code",
   "execution_count": null,
   "metadata": {},
   "outputs": [],
   "source": [
    "from pylab import *\n",
    "%matplotlib inline"
   ]
  },
  {
   "cell_type": "markdown",
   "metadata": {},
   "source": [
    "### Discharge potential for steady interface flow\n",
    "Consider steady interface flow in a confined aquifer. The freswater is flowing and the saltwater is at rest. The Dupuit approximation is adopted for flow in the freshwater zone, which means that the resistance to vertical flow in the freshwater zone is neglected and the freshwater head is a function of the horizontal $x$ and $y$ coordinates only. Flow may be formulated using discharge potentials (Strack, 1976)."
   ]
  },
  {
   "cell_type": "markdown",
   "metadata": {},
   "source": [
    "#### Steady unconfined interface flow\n",
    "Consider steady unconfined interface flow in a coastal aquifer. The freshwater head is measured with respect to sealevel. The depth of the interface is equal to $d=\\alpha h$, so that the total thickness of the freshwater zone is equal to $h+d=(1+\\alpha)h$. The discharge vector in the freshwater zone may be written as\n",
    "\n",
    "$$\n",
    "\\vec{Q} = -k(\\alpha+1)h\\vec{\\nabla} h= -\\vec{\\nabla}\\Phi\n",
    "$$\n",
    "\n",
    "The discharge potential for unconfined interface flow is defined as\n",
    "\n",
    "$$\n",
    "\\Phi = \\tfrac{1}{2}k(\\alpha+1)h^2\n",
    "$$\n",
    "\n",
    "The head at the toe of the interface is $h_\\text{toe}=D/\\alpha$, where $D$ is the depth of the bottom of the aquifer below sealevel. The potential at the toe of the interface is\n",
    "\n",
    "$$\n",
    "\\Phi_\\text{toe} = \\tfrac{1}{2}k\\frac{\\alpha+1}{\\alpha^2}D^2\n",
    "$$\n",
    "\n",
    "<img src=\"./img/unconfined_interface.png\" width=\"400\">\n",
    "**Figure** Unconfined interface flow.\n",
    "\n",
    "Upstream of the toe, the discharge vector for regular unconfined flow may be written as\n",
    "\n",
    "$$\n",
    "\\vec{Q} = -k(h+D)\\vec{\\nabla} h = -\\vec{\\nabla}\\Phi\n",
    "$$\n",
    "\n",
    "where the discharge potential is defined as\n",
    "\n",
    "$$\n",
    "\\Phi = \\tfrac{1}{2}k(h+D)^2 + C\n",
    "$$\n",
    "\n",
    "The constant $C$ is chosen such that the discharge potential at the toe is equal to the discharge potential for interface flow\n",
    "\n",
    "$$\n",
    "\\frac{1}{2}k\\left(\\frac{D}{\\alpha}+D\\right)^2 + C=\\tfrac{1}{2}k\\frac{\\alpha+1}{\\alpha^2}D^2\n",
    "$$\n",
    "\n",
    "so that \n",
    "\n",
    "$$\n",
    "C = -\\tfrac{1}{2}k\\frac{\\alpha+1}{\\alpha}D^2\n",
    "$$"
   ]
  },
  {
   "cell_type": "markdown",
   "metadata": {},
   "source": [
    "### Example"
   ]
  },
  {
   "cell_type": "markdown",
   "metadata": {},
   "source": [
    "Consider uniform flow towards the coast at a rate $Q_0$ as shown in the figure above, so that $Q_x=-Q_0$. Given: $k=10$ m/d, $D=20$ m, $\\rho_s=1025$ kg/m$^3$, $Q_0=0.4$ m$^2$/d. Question: where it the toe of the interface?\n",
    "\n",
    "The potential in the aquifer is (since the potential along the coast ($x=0$) is zero)\n",
    "\n",
    "$$\n",
    "\\Phi = Q_0x\n",
    "$$\n",
    "\n",
    "The location of the toe is found at the position where \n",
    "$\\Phi=\\Phi_\\text{toe}$, which gives \n",
    "\n",
    "$$\n",
    "x_\\text{toe}=\\tfrac{1}{2}k\\frac{\\alpha+1}{\\alpha^2Q_0}D^2=128 \\quad \\text{m}\n",
    "$$\n",
    "\n",
    "The head and position of the interface may be plotted for $x$ between 0 and 200 as follows"
   ]
  },
  {
   "cell_type": "code",
   "execution_count": null,
   "metadata": {},
   "outputs": [],
   "source": [
    "k = 10\n",
    "D = 20\n",
    "rhof = 1000\n",
    "rhos = 1025\n",
    "Q0 = 0.4\n",
    "alpha = rhof / (rhos - rhof)\n",
    "\n",
    "def head(x, Q0):\n",
    "    phitoe = 0.5 * k * (1 + alpha) * D ** 2 / alpha ** 2\n",
    "    C = -0.5 * k * D ** 2 * (1 + alpha) / alpha\n",
    "    phi = Q0 * x\n",
    "    h = zeros_like(phi)\n",
    "    h[phi < phitoe] = sqrt(2 * phi[phi < phitoe] / (k * (1 + alpha)))\n",
    "    h[phi > phitoe] = sqrt(2 * (phi[phi >= phitoe] - C) / k) - D\n",
    "    return h\n",
    "\n",
    "x = linspace(0, 200, 100)\n",
    "h = head(x, Q0)\n",
    "zeta = -alpha * h\n",
    "zeta[zeta < -D] = -D\n",
    "plot(x, h, 'b')\n",
    "plot(x, zeta, 'r')\n",
    "plot(x, -D * ones_like(x), 'k');"
   ]
  },
  {
   "cell_type": "markdown",
   "metadata": {},
   "source": [
    "#### Exercise 1\n",
    "Consider the case of uniform unconfined interface flow at a rate $Q_0$ towards the coast, as shown above, but now $Q_0$ is unknown and needs to be determined from one head measurement in the aquifer. \n",
    "\n",
    "a) Determine $Q_0$ if the head is measured as $h(x=200)=0.4$ m. Compute the head and depth of the interface at $x=100$ m.\n",
    "\n",
    "b) Determine $Q_0$ if the head is measured as $h(x=1000)=1$ m. Compute the head and depth of the interface at $x=100$ m."
   ]
  },
  {
   "cell_type": "code",
   "execution_count": null,
   "metadata": {},
   "outputs": [],
   "source": []
  },
  {
   "cell_type": "markdown",
   "metadata": {},
   "source": [
    "### Steady confined flow\n",
    "Consider steady confined flow in a coastal aquifer. The freshwater head is measured with respect to sealevel. The top of the confined aquifer is a distance $D$ below sealevel. The thickness of the confined aquifer is $H$. The depth of the interface below sealevel is $d=\\alpha h$, so that the total thickness of the freshwater zone is equal to $d-D=\\alpha h - D$. The discharge vector in the freshwater zone may be written as \n",
    "\n",
    "$$\n",
    "\\vec{Q} = -k(\\alpha h-D)\\vec{\\nabla} h = = -k\\alpha(h-D/\\alpha)\\vec{\\nabla} h = -\\vec{\\nabla}\\Phi\n",
    "$$\n",
    "\n",
    "The discharge potential for confined interface flow is defined as\n",
    "\n",
    "$$\n",
    "\\Phi = \\tfrac{1}{2}k\\alpha(h-D/\\alpha)^2\n",
    "$$\n",
    "\n",
    "The head at the toe of the interface is $h_\\text{toe}=(D+H)/\\alpha$ so that the potential at the toe of the interface is\n",
    "\n",
    "$$\n",
    "\\Phi_\\text{toe} = \\tfrac{1}{2}k\\alpha[(D+H)/\\alpha - D/\\alpha]^2 = \\tfrac{1}{2}kH^2/\\alpha\n",
    "$$\n",
    "\n",
    "<img src=\"./img/confined_interface.png\" width=\"400\">\n",
    "**Figure** Confined interface flow.\n",
    "\n",
    "Upstream of the toe, the discharge vector for regular confined flow may be written as \n",
    "\n",
    "$$\n",
    "\\vec{Q} = -kH\\vec{\\nabla} h = -\\vec{\\nabla}\\Phi\n",
    "$$\n",
    "\n",
    "where the discharge potential is defined as\n",
    "\n",
    "$$\n",
    "\\Phi = kHh + C\n",
    "$$\n",
    "\n",
    "The constant $C$ is chosen such that the discharge potential at the toe is equal to the discharge potential for interface flow\n",
    "\n",
    "$$\n",
    "\\tfrac{1}{2}k\\frac{H^2}{\\alpha} = kH\\frac{D+H}{\\alpha} + C\n",
    "$$\n",
    "\n",
    "so that \n",
    "\n",
    "$$\n",
    "C = -\\frac{k(DH+\\tfrac{1}{2}H^2)}{\\alpha}\n",
    "$$"
   ]
  },
  {
   "cell_type": "markdown",
   "metadata": {},
   "source": [
    "#### Exercise 2\n",
    "Consider the case of uniform confined interface flow at a rate $Q_0$ towards the coast, as shown above. Given: $k=10$ m/d, $D=8$ m, $H=20$ m, $\\rho_s=1025$ kg/m$^3$, $Q_0=0.4$ m$^2$/d.\n",
    "\n",
    "a) Compute the head and depth of the interface at $x=100$ m.\n",
    "\n",
    "b) Compute the head and depth of the interface at $x=1000$ m.\n",
    "\n",
    "c) Plot the head and the position of the interface vs. $x$ for $x$ going from 0 to 200 m. "
   ]
  },
  {
   "cell_type": "code",
   "execution_count": null,
   "metadata": {},
   "outputs": [],
   "source": []
  },
  {
   "cell_type": "markdown",
   "metadata": {},
   "source": [
    "#### Exercise 3\n",
    "Consider steady interface flow in a confined coastal aquifer. The coast line is long and straight (see Figure below). Far upstream of the coast, flow is uniform and equal to $Q_x=-Q_0$. The hydraulic conductivity of the aquifer is $k$, the thickness of the aquifer is $H$, and the top of the aquifer is a distance $D$ below sea level. The density of the saltwater is $\\rho_s$. A well has been pumping for a long time with a discharge $Q$ at a distance $d$ from the coast (see Figure).\n",
    "\n",
    "<img src=\"./img/interface_flow_exercise3.png\" width=\"400\">\n",
    "**Figure** Exercise 3.\n",
    "\n",
    "Questions:\n",
    "\n",
    "a) Derive an expression for the discharge potential in the aquifer. \n",
    "\n",
    "b) Derive an expression for the discharge of the well such that the toe of the interface is at $(x,y)=(d/2,0)$.\n",
    "\n",
    "Given: $k=20$ m/d, $H=20$ m, $D=10$ m, $\\rho_s=1020$ kg/m$^3$, $Q_0=0.2$ m$^2$/d, $d=1000$ m, $Q=200$ m$^3$/d.\n",
    "\n",
    "c) Compute the head in the aquifer with respect to sea level at $(x,y)=(d/2,0)$. \n",
    "\n",
    "d) Compute the depth of the interface below sea level at $(x,y)=(d/2,0)$. \n",
    "\n",
    "e) Compute the thickness of the freshwater zone in the aquifer at $(x,y)=(d/2,0)$"
   ]
  },
  {
   "cell_type": "markdown",
   "metadata": {},
   "source": [
    "#### References\n",
    "* Strack, O. D. L. (1976). A single-potential solution for regional interface problems in coastal aquifers. Water Resources Research, 12(6), 1165-1174."
   ]
  }
 ],
 "metadata": {
  "kernelspec": {
   "display_name": "Python 3",
   "language": "python",
   "name": "python3"
  },
  "language_info": {
   "codemirror_mode": {
    "name": "ipython",
    "version": 3
   },
   "file_extension": ".py",
   "mimetype": "text/x-python",
   "name": "python",
   "nbconvert_exporter": "python",
   "pygments_lexer": "ipython3",
   "version": "3.6.5"
  },
  "widgets": {
   "state": {},
   "version": "1.1.2"
  }
 },
 "nbformat": 4,
 "nbformat_minor": 1
}
