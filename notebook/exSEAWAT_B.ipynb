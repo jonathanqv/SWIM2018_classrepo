{
 "cells": [
  {
   "cell_type": "markdown",
   "metadata": {},
   "source": [
    "![alt text](./img/header.png)\n",
    "\n",
    "# Saltwater Intrusion Exercise\n",
    "\n",
    "A growing coastal city is interested in developing a wellfield in order to provide potable drinking water to its residents.  You have been contracted by the city to perform a numerical analysis to determine the effects of groundwater withdrawals on the position of the saltwater interface.  The city is particularly interested in knowing if the planned withdrawal rate will result in pumped water that exceeds the drinking water standard for chloride, which is 250 mg/L.  In addition, you have been asked by the city to delineate a wellfield protection zone by determining the approximate recharge area for the wellfield.\n",
    "\n",
    "![alt text](./img/exB_fig1.png)\n",
    "\n",
    "The study area consists of a 10 by 10 km area of a coastal plain aquifer system centered on the proposed wellfield (Figure 1).  The hydrogeology of the area consists of a shallow and deep aquifer, and both aquifers intersect the sea floor (Figure 2).  The two aquifers are separated by a discontinuous confining layer that thickens to the east.  The confining layer is present in the eastern part of the study area, but is absent in the western part.  A low permeability unit, which slopes downward to the east, underlies the deep aquifer and can be considered a no flow boundary.  Extensive field investigations have been performed, and the aquifer properties for the different units are summarized in the table below.  Annual average recharge was determined to be 25.4 cm/yr (10 in/yr).\n",
    "\n",
    "![alt text](./img/exB_fig2.png)\n",
    "\n",
    "Unfortunately, due to limitations in available property, the city has only one option for wellfield location, which is shown on the map in Figure 1.  The city is hoping to capture at least 25% of the recharge for the area, but there is an obvious concern that excessive pumping from the deep aquifer could cause the saltwater interface to move inland and contaminate the wellfield.\n",
    "\n",
    "  Unit            | $K_h$ |  $K_v$      |  $S$        | $S_y$ | $n$   | $\\alpha_l$ | $\\alpha_v$ \n",
    "  --------------- | ----- | ----------- | ----------- | ----- | ----- | ---------- | ---------- \n",
    "  Shallow aquifer | 100   | 1           | $1x10^{-5}$ | 0.2   | 0.2   | 10         | 1          \n",
    "  Confining unit  | 0.001 | 0.001       | $1x10^{-5}$ | 0.2   | 0.2   | 10         | 1          \n",
    "  Deep aquifer    | 2000  | 200         | $1x10^{-5}$ | 0.2   | 0.2   | 10         | 1          \n",
    "\n"
   ]
  },
  {
   "cell_type": "code",
   "execution_count": null,
   "metadata": {},
   "outputs": [],
   "source": [
    "# Setup the python environment\n",
    "%matplotlib inline\n",
    "import sys\n",
    "import os\n",
    "import numpy as np\n",
    "import matplotlib.pyplot as plt\n",
    "import flopy\n",
    "import config"
   ]
  },
  {
   "cell_type": "markdown",
   "metadata": {},
   "source": [
    "## Exercise B -- Design, run, and calibrate a 2D cross-section model to obtain the steady-state pre-withdrawal distribution of head and salinity\n",
    "\n",
    "Based on the geometry of the system, the pre-withdrawal conditions can be obtained by running a 2D cross-section model.  The resulting heads and salinities can then be used as initial conditions for the 3D model to evaluate interface movement in response to pumping.  Because 3D saltwater intrusion models can take a long time, across-sectional model is developed first using one row, 100 columns, and 25 model layers. The model has already been constructed for you.\n",
    "\n",
    "This exercise was designed such that a 2D model could be used to represent pre-withdrawal conditions.  If the hydrogeology were to vary in the north-south direction, or if an irregular boundary were to exist, the problem of obtaining equilibrium conditions would be more difficult."
   ]
  },
  {
   "cell_type": "markdown",
   "metadata": {},
   "source": [
    "### Part B1 -- Determine length of simulation period required to reach equilibrium"
   ]
  },
  {
   "cell_type": "code",
   "execution_count": null,
   "metadata": {},
   "outputs": [],
   "source": [
    "# Data path\n",
    "datapth = os.path.join('data', 'exSEAWAT_B')\n",
    "\n",
    "# Grid information\n",
    "nlay = 23\n",
    "nrow = 1\n",
    "ncol = 100\n",
    "delr = 100.\n",
    "delc = 100.\n",
    "top = 2.5\n",
    "botm = np.linspace(-2.5, -112.5, nlay)\n",
    "\n",
    "# Temporal discretization\n",
    "nper = 1\n",
    "nstp = 1\n",
    "perlen = 100000.\n",
    "\n",
    "# Ibound\n",
    "fname = os.path.join(datapth, 'ibound.txt')\n",
    "ibound = np.loadtxt(fname).reshape((nlay, nrow, ncol))\n",
    "\n",
    "# Hydraulic properties\n",
    "fname = os.path.join(datapth, 'hk.txt')\n",
    "hk = np.loadtxt(fname).reshape((nlay, nrow, ncol))\n",
    "fname = os.path.join(datapth, 'vk.txt')\n",
    "vk = np.loadtxt(fname).reshape((nlay, nrow, ncol))\n",
    "ss = 1.e-5\n",
    "sy = 0.2\n",
    "\n",
    "# Recharge\n",
    "rech = 25.4 / 100. / 365.  # convert cm/yr to m/day\n",
    "\n",
    "# Transport\n",
    "dt0 = 0.\n",
    "sconc = np.zeros((nlay, nrow, ncol), dtype=np.float32)\n",
    "sconc[(ibound < 0)] = 35.\n",
    "icbund = np.abs(ibound)\n",
    "ssm_data = {}\n",
    "itype = flopy.mt3d.Mt3dSsm.itype_dict()\n",
    "layers, rows, columns = np.where(ibound < 0)\n",
    "ssm_per1 = []\n",
    "for k, i, j in zip(layers, rows, columns):\n",
    "    ssm_per1.append((k, i, j, 35., itype['CHD']))\n",
    "ssm_data[0] = ssm_per1"
   ]
  },
  {
   "cell_type": "code",
   "execution_count": null,
   "metadata": {},
   "outputs": [],
   "source": [
    "# Build the flopy SEAWAT model\n",
    "model_ws = os.path.join('.', 'work', 'exSEAWAT_B')\n",
    "modelname = 'b1'\n",
    "m = flopy.seawat.Seawat(modelname, model_ws=model_ws, exe_name=config.swexe)\n",
    "dis = flopy.modflow.ModflowDis(m, nlay=nlay, nrow=nrow, ncol=ncol, delr=delr, delc=delc, \n",
    "                               top=top, botm=botm, perlen=perlen, nstp=nstp)\n",
    "bas = flopy.modflow.ModflowBas(m, ibound, strt=0.)\n",
    "lpf = flopy.modflow.ModflowLpf(m, laytyp=1, hk=hk, vka=vk, ss=ss, sy=sy)\n",
    "rch = flopy.modflow.ModflowRch(m, rech=rech)\n",
    "oc = flopy.modflow.ModflowOc(m)\n",
    "pcg = flopy.modflow.ModflowPcg(m, hclose=1.e-3, rclose=1e4)\n",
    "vdf = flopy.seawat.SeawatVdf(m, mtdnconc=1, mfnadvfd=1, nswtcpl=0, iwtable=0, \n",
    "                             densemin=0., densemax=0., denseslp=25./35., denseref=1000.)\n",
    "btn = flopy.mt3d.Mt3dBtn(m, \n",
    "                         #nlay=nlay, nrow=nrow, ncol=ncol, nper=nper, \n",
    "                         laycon=lpf.laytyp, htop=top, \n",
    "                         dz=dis.thickness.get_value(), prsity=0.2, icbund=icbund,\n",
    "                         sconc=sconc, nprs=-10)\n",
    "adv = flopy.mt3d.Mt3dAdv(m, mixelm=-1, percel=0.5)\n",
    "dsp = flopy.mt3d.Mt3dDsp(m, al=10., trpt=0.1, trpv=0.1, dmcoef=0.)\n",
    "ssm = flopy.mt3d.Mt3dSsm(m, crch=0, stress_period_data=ssm_data)\n",
    "gcg = flopy.mt3d.Mt3dGcg(m, isolve=2, cclose=1.e-6)"
   ]
  },
  {
   "cell_type": "code",
   "execution_count": null,
   "metadata": {},
   "outputs": [],
   "source": [
    "# Make plot of the grid\n",
    "f = plt.figure(figsize=(15, 5))\n",
    "ax = f.add_subplot(1, 1, 1)\n",
    "mm = flopy.plot.ModelCrossSection(ax=ax, model=m, line={'row':0})\n",
    "linecollection = mm.plot_grid()\n",
    "patchcollection = mm.plot_ibound()"
   ]
  },
  {
   "cell_type": "code",
   "execution_count": null,
   "metadata": {},
   "outputs": [],
   "source": [
    "# Make color flood plot of hydraulic conductivity\n",
    "f = plt.figure(figsize=(15, 5))\n",
    "ax = f.add_subplot(1, 1, 1)\n",
    "mm = flopy.plot.ModelCrossSection(ax=ax, model=m, line={'row':0})\n",
    "hkpatchcollection = mm.plot_array(np.log(m.lpf.hk.array), cmap='viridis')\n",
    "linecollection = mm.plot_grid()\n",
    "patchcollection = mm.plot_ibound()\n",
    "cb = plt.colorbar(hkpatchcollection)"
   ]
  },
  {
   "cell_type": "code",
   "execution_count": null,
   "metadata": {},
   "outputs": [],
   "source": [
    "# write the input files\n",
    "m.write_input()"
   ]
  },
  {
   "cell_type": "code",
   "execution_count": null,
   "metadata": {},
   "outputs": [],
   "source": [
    "# run the model\n",
    "success, buff = m.run_model(silent=False)"
   ]
  },
  {
   "cell_type": "code",
   "execution_count": null,
   "metadata": {},
   "outputs": [],
   "source": [
    "# Extract salinity\n",
    "fname = os.path.join(model_ws, 'MT3D001.UCN')\n",
    "ucnobj = flopy.utils.binaryfile.UcnFile(fname)\n",
    "times = ucnobj.get_times()\n",
    "conc = ucnobj.get_data(totim=times[-1])\n",
    "conc[np.where(ibound != 1)] = np.nan"
   ]
  },
  {
   "cell_type": "code",
   "execution_count": null,
   "metadata": {},
   "outputs": [],
   "source": [
    "# Make plot of the simulated salinity\n",
    "f = plt.figure(figsize=(15, 5))\n",
    "ax = f.add_subplot(1, 1, 1)\n",
    "mm = flopy.plot.ModelCrossSection(ax=ax, model=m, line={'row':0})\n",
    "cpatchcollection = mm.plot_array(conc, vmin=0.1, vmax=35, edgecolor='k')\n",
    "#linecollection = mm.plot_grid()\n",
    "#patchcollection = mm.plot_ibound()\n",
    "cb = plt.colorbar(cpatchcollection)"
   ]
  },
  {
   "cell_type": "code",
   "execution_count": null,
   "metadata": {},
   "outputs": [],
   "source": [
    "# Load the mas file and make a plot of total mass in aquifer versus time\n",
    "fname = os.path.join(model_ws, 'MT3D001.MAS')\n",
    "mas = flopy.mt3d.Mt3dms.load_mas(fname)\n",
    "f = plt.figure()\n",
    "ax = f.add_subplot(1, 1, 1)\n",
    "lines = ax.plot(mas.time, mas.total_mass)"
   ]
  },
  {
   "cell_type": "code",
   "execution_count": null,
   "metadata": {},
   "outputs": [],
   "source": [
    "mas"
   ]
  },
  {
   "cell_type": "markdown",
   "metadata": {},
   "source": [
    "### Animate Simulating using Model Viewer\n",
    "Use the Modelviewer program to animate salinity as a function of time.  Make sure to use the MT3DMS option in Modelviewer when opening the files. Open Modelviewer and go to File>new.  You can look at a MODFLOW or MT3DMS results. To view the salinity distribution select MT3DMS. For “cnf” scroll to the directory you are running your model in and select the MT3D.cnf file. Then specify the concentration file (MT3D001.UCN), and select “OK”. We will leave the other two boxes blank. .You can leave the time to visualize as it is, or go to another time.  The data type “concentration” will be used in this visualization.  Click “OK”.  A blank box will appear.  Go to Show>solid and you will see some colors appear; however, this view still looks odd.  Why do you think that is?  Could it have something to do with the dimensions of the model?  How do you think this can be fixed? (Hint: go to Toolbox>Geometry and increase the vertical discretization in “z”) You can move the view around with the left-click on the mouse. There is also a place in the menu to animate the concentrations.  "
   ]
  },
  {
   "cell_type": "markdown",
   "metadata": {},
   "source": [
    "### B1 Questions\n",
    " \n",
    "1. Based on the plot above, has equilibrium been reached?\n",
    "2. Determine the length of time it takes to reach equilibrium by rerunning the simulation using larger values for perlen."
   ]
  },
  {
   "cell_type": "markdown",
   "metadata": {},
   "source": [
    "### Part B2 -- Evaluate the level of numerical dispersion\n",
    "\n",
    "In B1, the TVD solver was used with a specified Courant number of 0.5, and because the longitudinal and transverse dispersivities ($\\alpha_L$ and $\\alpha_T$) were specified as 10 and 1 m, respectively, the simulation included dispersion.  In addition to the intended dispersion, the simulation also had some numerical dispersion.  The purpose of this analysis is to determine the approximate level of numerical dispersion by rerunning the previous simulation with the dispersivity values set to zero.  The following code blocks will setup and run this new simulation."
   ]
  },
  {
   "cell_type": "code",
   "execution_count": null,
   "metadata": {},
   "outputs": [],
   "source": [
    "# This code block will make a new model called b2 and then run it\n",
    "m.name = 'b2'\n",
    "m.dsp.al = 0.\n",
    "m.dsp.trpt = 0.\n",
    "m.dsp.trpv = 0.\n",
    "m.write_input()\n",
    "m.run_model(silent=False)"
   ]
  },
  {
   "cell_type": "code",
   "execution_count": null,
   "metadata": {},
   "outputs": [],
   "source": [
    "# Extract salinity\n",
    "fname = os.path.join(model_ws, 'MT3D001.UCN')\n",
    "ucnobj = flopy.utils.binaryfile.UcnFile(fname)\n",
    "times = ucnobj.get_times()\n",
    "conc = ucnobj.get_data(totim=times[-1])\n",
    "conc[np.where(ibound != 1)] = np.nan\n",
    "\n",
    "# Make plot of the simulated salinity\n",
    "f = plt.figure(figsize=(15, 5))\n",
    "ax = f.add_subplot(1, 1, 1)\n",
    "mm = flopy.plot.ModelCrossSection(ax=ax, model=m, line={'row':0})\n",
    "cpatchcollection = mm.plot_array(conc, vmin=0.1, vmax=35, edgecolor='k')\n",
    "#linecollection = mm.plot_grid()\n",
    "#patchcollection = mm.plot_ibound()\n",
    "cb = plt.colorbar(cpatchcollection)"
   ]
  },
  {
   "cell_type": "markdown",
   "metadata": {},
   "source": [
    "### B2 Questions\n",
    " \n",
    "1. Plot the results from this simulation.  How do they compare to B1?\n",
    "2. Has this simulation reached equilibrium?\n",
    "3. Use Model Viewer to watch an animation of this simulation."
   ]
  },
  {
   "cell_type": "markdown",
   "metadata": {},
   "source": [
    "### Part B3 -- Evaluate transport solution schemes and parameters to determine compromise between accuracy and efficiency\n",
    "\n",
    "The simulation in B1 was performed using TVD with a specified Courant number of 0.5.  Although the B1 simulation took a while to run, the results can be considered accurate.  The purpose of this analysis is to change some of the simulation parameters, and then compare the results with simulation B1."
   ]
  },
  {
   "cell_type": "code",
   "execution_count": null,
   "metadata": {},
   "outputs": [],
   "source": [
    "# Reset simulation to B1, and then change percel from original value (0.5) to 1.00\n",
    "m.name = 'b3a'\n",
    "m.dsp.al = 10.\n",
    "m.dsp.trpt = 0.1\n",
    "m.dsp.trpv = 0.1\n",
    "m.adv.percel = 1.0\n",
    "m.write_input()\n",
    "m.run_model(silent=False)"
   ]
  },
  {
   "cell_type": "code",
   "execution_count": null,
   "metadata": {},
   "outputs": [],
   "source": [
    "# Plot the results if you like by copying the appropriate blocks from above."
   ]
  },
  {
   "cell_type": "code",
   "execution_count": null,
   "metadata": {},
   "outputs": [],
   "source": [
    "# Extract salinity\n",
    "fname = os.path.join(model_ws, 'MT3D001.UCN')\n",
    "ucnobj = flopy.utils.binaryfile.UcnFile(fname)\n",
    "times = ucnobj.get_times()\n",
    "conc = ucnobj.get_data(totim=times[-1])\n",
    "conc[np.where(ibound != 1)] = np.nan\n",
    "\n",
    "# Make plot of the simulated salinity\n",
    "f = plt.figure(figsize=(15, 5))\n",
    "ax = f.add_subplot(1, 1, 1)\n",
    "mm = flopy.plot.ModelCrossSection(ax=ax, model=m, line={'row':0})\n",
    "cpatchcollection = mm.plot_array(conc, vmin=0.1, vmax=35, edgecolor='k')\n",
    "#linecollection = mm.plot_grid()\n",
    "#patchcollection = mm.plot_ibound()\n",
    "cb = plt.colorbar(cpatchcollection)"
   ]
  },
  {
   "cell_type": "code",
   "execution_count": null,
   "metadata": {},
   "outputs": [],
   "source": [
    "# Try running with implicit finite difference scheme\n",
    "m.name = 'b3b'\n",
    "m.adv.mixelm = 0  # implicit finite difference\n",
    "m.adv.nadvfd = 0  # upstream weighting\n",
    "m.btn.dt0 = 25.\n",
    "m.write_input()\n",
    "m.run_model(silent=False)"
   ]
  },
  {
   "cell_type": "code",
   "execution_count": null,
   "metadata": {},
   "outputs": [],
   "source": [
    "# Plot the results if you like by copying the appropriate blocks from above."
   ]
  },
  {
   "cell_type": "code",
   "execution_count": null,
   "metadata": {},
   "outputs": [],
   "source": [
    "# Extract salinity\n",
    "fname = os.path.join(model_ws, 'MT3D001.UCN')\n",
    "ucnobj = flopy.utils.binaryfile.UcnFile(fname)\n",
    "times = ucnobj.get_times()\n",
    "conc = ucnobj.get_data(totim=times[-1])\n",
    "conc[np.where(ibound != 1)] = np.nan\n",
    "\n",
    "# Make plot of the simulated salinity\n",
    "f = plt.figure(figsize=(15, 5))\n",
    "ax = f.add_subplot(1, 1, 1)\n",
    "mm = flopy.plot.ModelCrossSection(ax=ax, model=m, line={'row':0})\n",
    "cpatchcollection = mm.plot_array(conc, vmin=0.1, vmax=35, edgecolor='k')\n",
    "#linecollection = mm.plot_grid()\n",
    "#patchcollection = mm.plot_ibound()\n",
    "cb = plt.colorbar(cpatchcollection)"
   ]
  },
  {
   "cell_type": "markdown",
   "metadata": {},
   "source": [
    "### B3 Questions\n",
    " \n",
    "1. Plot the results from this simulation.  How do they compare to B1?  Is this an acceptable compromise between accuracy and efficiency?\n",
    "2. Has this simulation reached equilibrium?\n",
    "3. If time permits, try experimenting with different solver parameters.  How fast can you get the simulation to run?"
   ]
  },
  {
   "cell_type": "code",
   "execution_count": null,
   "metadata": {},
   "outputs": [],
   "source": []
  },
  {
   "cell_type": "markdown",
   "metadata": {},
   "source": [
    "### Part B4 -- Calibrate the model\n",
    "\n",
    "After the cross-sectional model was developed, data was \"discovered\" from 1998 in boxes from a warehouse that belonged to the city.  Data exist from 7 monitoring wells in the area.  The data included water levels and salinities from 1998."
   ]
  },
  {
   "cell_type": "code",
   "execution_count": null,
   "metadata": {},
   "outputs": [],
   "source": [
    "# This is the observation data that can be used to calibrate the model\n",
    "#        nm   col  lay head  sal\n",
    "obs = [('p1', 74, 12, 0.77, 19.),\n",
    "       ('p2', 74, 17, 2.17, 1.74),\n",
    "       ('p3', 55, 4, 2.12, 0),\n",
    "       ('p4', 93, 22, 0.00, 35),\n",
    "       ('p5', 48, 19, 2.43, 0),\n",
    "       ('p6', 61, 13, 1.98, 0),\n",
    "       ('p7', 27, 5, 3.17, 0)]\n",
    "obs = np.array(obs, dtype=[('name', object), ('column', int), ('layer', int), \n",
    "                           ('head', float), ('conc', float)])\n",
    "obs = obs.view(np.recarray)"
   ]
  },
  {
   "cell_type": "code",
   "execution_count": null,
   "metadata": {},
   "outputs": [],
   "source": [
    "obs"
   ]
  },
  {
   "cell_type": "code",
   "execution_count": null,
   "metadata": {},
   "outputs": [],
   "source": [
    "# Your job is to calibrate these factors to change hydraulic conductivity zone values\n",
    "hk_shallow = 100 * 1.0\n",
    "hk_conf = 0.001\n",
    "hk_deep = 2000 * 1.0\n",
    "vk_shallow = 1.0 * 1.0\n",
    "vk_conf = 0.001\n",
    "vk_deep = 200 * 0.5 * 1.0\n",
    "\n",
    "# This will setup the hk2 and vk2 and make the substitutions\n",
    "kzone = np.ones((nlay, nrow, ncol), dtype=np.int)\n",
    "idx_shallow = np.where(np.float32(hk) == 100)\n",
    "idx_conf = np.where(np.float32(hk) == 0.001)\n",
    "idx_deep = np.where(np.float32(hk) == 2000)\n",
    "hk2 = np.ones((nlay, nrow, ncol), dtype=np.float32) * -999\n",
    "vk2 = np.ones((nlay, nrow, ncol), dtype=np.float32) * -999\n",
    "hk2[idx_shallow] = hk_shallow\n",
    "hk2[idx_conf] = hk_conf\n",
    "hk2[idx_deep] = hk_deep\n",
    "vk2[idx_shallow] = vk_shallow\n",
    "vk2[idx_conf] = vk_conf\n",
    "vk2[idx_deep] = vk_deep"
   ]
  },
  {
   "cell_type": "code",
   "execution_count": null,
   "metadata": {},
   "outputs": [],
   "source": [
    "# Use run from exercise b3; this will run the new model\n",
    "m.name = 'b4'\n",
    "m.output_fnames[0] = 'b4.hds'\n",
    "m.adv.mixelm = 0\n",
    "m.adv.nadvfd = 0\n",
    "m.btn.dt0 = 25.\n",
    "m.lpf.hk = hk2\n",
    "m.lpf.vka = vk2\n",
    "m.write_input()\n",
    "m.run_model(silent=False)"
   ]
  },
  {
   "cell_type": "code",
   "execution_count": null,
   "metadata": {},
   "outputs": [],
   "source": [
    "fname = os.path.join(model_ws, m.name + '.hds')\n",
    "hdobj = flopy.utils.binaryfile.HeadFile(fname)\n",
    "times = hdobj.get_times()\n",
    "head = hdobj.get_data(totim=times[-1])\n",
    "hdobj.close()\n",
    "\n",
    "fname = os.path.join(model_ws, 'MT3D001.UCN')\n",
    "cnobj = flopy.utils.binaryfile.UcnFile(fname)\n",
    "times = cnobj.get_times()\n",
    "conc = cnobj.get_data(totim=times[-1])\n",
    "cnobj.close()\n",
    "\n",
    "simhead = []\n",
    "simconc = []\n",
    "for name, column, layer, obshead, obsconc in obs:\n",
    "    simhead.append(head[layer - 1, 0, column - 1])\n",
    "    simconc.append(conc[layer - 1, 0, column - 1])\n",
    "    \n",
    "fig = plt.figure(figsize=(15, 15))\n",
    "ax1 = fig.add_subplot(1, 2, 1, aspect='equal')\n",
    "ax1.scatter(obs.head, simhead, s=60, edgecolors='r', facecolors='none')\n",
    "ax1.set_xlim(0, 3.5)\n",
    "ax1.set_ylim(0, 3.5)\n",
    "ax1.plot([0, 3.5], [0, 3.5], 'k--')\n",
    "ax1.set_title('HEAD')\n",
    "ax1.set_xlabel('OBSERVED')\n",
    "ax1.set_ylabel('SIMULATED')\n",
    "ax2 = fig.add_subplot(1, 2, 2, aspect='equal')\n",
    "ax2.scatter(obs.conc, simconc, s=60, edgecolors='r', facecolors='none')\n",
    "ax2.set_xlim(0, 35)\n",
    "ax2.set_ylim(0, 35)\n",
    "ax2.plot([0, 35], [0, 35], 'k--')\n",
    "ax2.set_title('CONCENTRATION')\n",
    "ax2.set_xlabel('OBSERVED')\n",
    "ax2.set_ylabel('SIMULATED')\n"
   ]
  },
  {
   "cell_type": "code",
   "execution_count": null,
   "metadata": {},
   "outputs": [],
   "source": [
    "# Extract salinity\n",
    "fname = os.path.join(model_ws, 'MT3D001.UCN')\n",
    "ucnobj = flopy.utils.binaryfile.UcnFile(fname)\n",
    "times = ucnobj.get_times()\n",
    "conc = ucnobj.get_data(totim=times[-1])\n",
    "conc[np.where(ibound != 1)] = np.nan\n",
    "\n",
    "# Make plot of the simulated salinity\n",
    "f = plt.figure(figsize=(15, 5))\n",
    "ax = f.add_subplot(1, 1, 1)\n",
    "mm = flopy.plot.ModelCrossSection(ax=ax, model=m, line={'row':0})\n",
    "cpatchcollection = mm.plot_array(conc, vmin=0.1, vmax=35, edgecolor='k')\n",
    "#linecollection = mm.plot_grid()\n",
    "#patchcollection = mm.plot_ibound()\n",
    "cb = plt.colorbar(cpatchcollection)"
   ]
  },
  {
   "cell_type": "code",
   "execution_count": null,
   "metadata": {},
   "outputs": [],
   "source": []
  }
 ],
 "metadata": {
  "kernelspec": {
   "display_name": "Python 3",
   "language": "python",
   "name": "python3"
  },
  "language_info": {
   "codemirror_mode": {
    "name": "ipython",
    "version": 3
   },
   "file_extension": ".py",
   "mimetype": "text/x-python",
   "name": "python",
   "nbconvert_exporter": "python",
   "pygments_lexer": "ipython3",
   "version": "3.6.5"
  }
 },
 "nbformat": 4,
 "nbformat_minor": 1
}
