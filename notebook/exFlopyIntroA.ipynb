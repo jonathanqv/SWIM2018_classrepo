{
 "cells": [
  {
   "cell_type": "code",
   "execution_count": null,
   "metadata": {},
   "outputs": [],
   "source": [
    "%matplotlib inline\n",
    "import numpy as np\n",
    "import matplotlib.pyplot as plt\n",
    "import flopy\n",
    "import config"
   ]
  },
  {
   "cell_type": "code",
   "execution_count": null,
   "metadata": {},
   "outputs": [],
   "source": [
    "lx = 100.\n",
    "ly = 100.\n",
    "nlay = 1\n",
    "nrow = 20\n",
    "ncol = 20\n",
    "delr = lx / ncol\n",
    "delc = ly / nrow\n",
    "top = 0\n",
    "botm = -100\n",
    "nper = 1\n",
    "nstp = 1\n",
    "ibound = np.ones((nlay, nrow, ncol), dtype=np.int)\n",
    "ibound[0, 0, 0] = -1\n",
    "ibound[0, nrow - 1, ncol - 1] = -1\n",
    "strt = np.zeros((nlay, nrow, ncol), dtype=np.float)\n",
    "strt[0, 0, 0] = 1."
   ]
  },
  {
   "cell_type": "code",
   "execution_count": null,
   "metadata": {},
   "outputs": [],
   "source": [
    "model_ws = './work/exFlopyIntroA'\n",
    "name = 'fpintro'\n",
    "m = flopy.modflow.Modflow(modelname=name, model_ws=model_ws, \n",
    "                         exe_name=config.mfexe)\n",
    "dis = flopy.modflow.ModflowDis(m, nlay, nrow, ncol, nper,\n",
    "                              delr, delc, top=top, botm=botm)\n",
    "bas = flopy.modflow.ModflowBas(m, ibound=ibound, strt=strt)\n",
    "lpf = flopy.modflow.ModflowLpf(m, ipakcb=52)\n",
    "pcg = flopy.modflow.ModflowPcg(m)\n",
    "oc = flopy.modflow.ModflowOc(m, stress_period_data={(0, 0): \n",
    "                                                    ['save head',\n",
    "                                                    'save budget']}, )\n",
    "m.write_input()\n",
    "m.run_model()"
   ]
  },
  {
   "cell_type": "code",
   "execution_count": null,
   "metadata": {},
   "outputs": [],
   "source": [
    "fname = model_ws + '/' + name + '.hds'\n",
    "hdobj = flopy.utils.HeadFile(fname)\n",
    "head = hdobj.get_data()\n",
    "\n",
    "fname = model_ws + '/' + name + '.cbc'\n",
    "budobj = flopy.utils.CellBudgetFile(fname)\n",
    "frf = budobj.get_data(text='FLOW RIGHT FACE')[0]\n",
    "flf = budobj.get_data(text='FLOW FRONT FACE')[0]"
   ]
  },
  {
   "cell_type": "code",
   "execution_count": null,
   "metadata": {},
   "outputs": [],
   "source": [
    "mm = flopy.plot.ModelMap(model=m)\n",
    "mm.plot_grid()\n",
    "mm.plot_ibound()\n",
    "mm.plot_array(head, cmap='jet')\n",
    "mm.contour_array(head)\n",
    "mm.plot_discharge(frf, frf)"
   ]
  },
  {
   "cell_type": "code",
   "execution_count": null,
   "metadata": {},
   "outputs": [],
   "source": []
  }
 ],
 "metadata": {
  "kernelspec": {
   "display_name": "Python 3",
   "language": "python",
   "name": "python3"
  },
  "language_info": {
   "codemirror_mode": {
    "name": "ipython",
    "version": 3
   },
   "file_extension": ".py",
   "mimetype": "text/x-python",
   "name": "python",
   "nbconvert_exporter": "python",
   "pygments_lexer": "ipython3",
   "version": "3.6.5"
  }
 },
 "nbformat": 4,
 "nbformat_minor": 2
}
