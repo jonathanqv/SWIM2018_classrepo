{
 "cells": [
  {
   "cell_type": "markdown",
   "metadata": {},
   "source": [
    "![alt text](./img/header.png)\n",
    "\n",
    "# Analytic Solution Exercise A\n",
    "## Steady Interface flow towards the coast\n",
    "### Mark Bakker, TU Delft, The Netherlands"
   ]
  },
  {
   "cell_type": "markdown",
   "metadata": {},
   "source": [
    "### Setup Notebook"
   ]
  },
  {
   "cell_type": "code",
   "execution_count": null,
   "metadata": {},
   "outputs": [],
   "source": [
    "%matplotlib inline\n",
    "from semi_interface import Coast, SemiCoast, SemiCoastHead"
   ]
  },
  {
   "cell_type": "markdown",
   "metadata": {},
   "source": [
    "Seawater intrusion in coastal aquifers may be simulated as interface flow when the transition zone between the freshwater and saltwater is relatively thin. This Notebook concerns steady interface flow, which means that the interface has reached its stationary position and the salt water is at rest. Consider one-dimensional confined flow towards the coast (see Figure) at a rate $Q_0$, where $Q_0$ is defined as\n",
    "\n",
    "$$Q_0=-kH\\frac{\\text{d}h}{\\text{d}x}$$\n",
    "\n",
    "where $k$ is the hydraulic conductivity, $H$ is the thickness of the aquifer, and $\\text{d}h/\\text{d}x$ is the head gradient upstream of the toe of the interface. \n",
    "\n",
    "<img src=\"./img/coast_toe_layout.png\" width=\"500\">\n",
    "\n",
    "A convenient approach for the simulation of interface flow is the adoption of the Dupuit approximation. In Dupuit interface models, the resistance to vertical flow is neglected within an aquifer, so that the vertical head distribution is hydrostatic. As a result, the spatial dimension of the problem is reduced by one. It is emphasized that the resulting flow field is still  three-dimensional, as the vertical component of the flow my be computed from continuity of flow. In a Dupuit interface model, the outflow zone along the sea bottom is zero (unless a resistance to outflow is specified along the sea bottom, as we will do in the second half of this Notebook). "
   ]
  },
  {
   "cell_type": "markdown",
   "metadata": {},
   "source": [
    "### Ghyben-Herberg\n",
    "Consider steady interface flow in a coastal aquifer. The saltwater is at rest, which means that the saltwater head $h_s$ is constant everywhere in the saltwater zone. Consider two observation wells right next to eachother. The first observation well has its opening just above the interface and is filled with freshwater. The head is equal to the head in the freshwater zone at that point. The observation well next to it has its opening just below the interface and is filled with saltwater. The saltwater head in the latter well is equal to sealevel, since the saltwater is at rest. The interface is a distance $d$ below sealevel. At the interface, the pressure $p_f$ in the freshwater must be equal to the pressure $p_s$ in the saltwater\n",
    "\n",
    "$$\n",
    "p_f = p_s \n",
    "$$\n",
    "\n",
    "When the head $h$ is measured with respect to sealevel, the pressure at the bottom of the freshwater well is the height of the column of freshwater multiplied with $\\rho_fg$ and the pressure at the bottom of the saltwater well is the height of the column of saltwater multiplied with $\\rho_sg$ \n",
    "\n",
    "$$\n",
    "(h+d)\\rho_fg = d\\rho_sg\n",
    "$$\n",
    "\n",
    "The distance $d$ of the interface below sealevel may now be computed as\n",
    "\n",
    "$$\n",
    "d = \\frac{\\rho_f}{\\rho_s-\\rho_f}h=\\alpha h\n",
    "$$\n",
    "\n",
    "where $\\alpha=\\rho_f/(\\rho_s-\\rho_f)$.\n",
    "This equation is known as the equation of Bhadon-Ghyben-Herzberg. For seawater with a density of $\\rho_s=1025$ kg/m$^3$, $\\alpha=40$, which means that $d=40h$. In words: when the head in the freshwater is $h$ above sealevel, the interface is at a depth of $40h$ below sealevel *when flow is steady and the seawater is at rest*. Note that for Dupuit interface flow without a resistance layer at the bottom of the sea, head along the coastline is equal to sealevel, so that the interface is also at sealevel and the length of the ouflow zone is zero (see Figure below)\n",
    "\n",
    "<img src=\"./img/coast_toe_dupuit_layout.png\" width=\"500\">"
   ]
  },
  {
   "cell_type": "markdown",
   "metadata": {},
   "source": [
    "### Interface flow towards the coast\n",
    "\n",
    "Consider confined steady interface flow towards the sea. The freshwater is moving and the saltwater is at rest.\n",
    "Input variables:\n",
    "* `k`: hydraulic conductivity [m/d]\n",
    "* `H`: aquifer thickness [m]\n",
    "* `grad`: head gradient towards coast upstream of interface toe (absolute value will be used)\n",
    "* `rhof`: density of fresh water [kg/m$^3$]\n",
    "* `rhos`: density of salt water [kg/m$^3$]\n",
    "* `ztop`: elevation of top of aquifer with respect to datum [m] (default is 0)\n",
    "\n",
    "Example case for $k=10$ m/d, $H=20$ m, $|\\text{d}h/\\text{d}x|=0.002$, $\\rho_f=1000$ kg/m$^3$, $\\rho_s=1025$ kg/m$^3$:"
   ]
  },
  {
   "cell_type": "code",
   "execution_count": null,
   "metadata": {},
   "outputs": [],
   "source": [
    "k = 10\n",
    "H = 20\n",
    "grad = 0.002\n",
    "rhof = 1000\n",
    "rhos = 1025\n",
    "\n",
    "c = Coast(k, H, grad, rhof, rhos)\n",
    "c.plot()\n",
    "print('x-position of the toe:', c.toe(), 'm')"
   ]
  },
  {
   "cell_type": "markdown",
   "metadata": {},
   "source": [
    "#### Exercise 1\n",
    "a) For the case that $k=10$ m/d, $H=20$ m, $\\rho_f=1000$ kg/m$^3$, $\\rho_s=1025$ kg/m$^3$, determine the gradient such that the toe is 200 m from the coast and plot the interface. Next, increase the hydraulic conductivity to $k=20$ m/d and again determine the gradient such that the toe is 200 m from the coast and plot the interface."
   ]
  },
  {
   "cell_type": "code",
   "execution_count": null,
   "metadata": {},
   "outputs": [],
   "source": []
  },
  {
   "cell_type": "markdown",
   "metadata": {},
   "source": [
    "b) For the case that $k=10$ m/d, $H=20$ m, $\\text{d}h/\\text{d}x=0.0025$, $\\rho_f=1000$ kg/m$^3$, $\\rho_s=1025$ kg/m$^3$, determine the position of the toe and plot the interface. Next, determine the gradient $\\text{d}h/\\text{d}x$ that gives the exact same interface and toe position if the density of the saltwater is only $\\rho_s=1020$ kg/m$^3$."
   ]
  },
  {
   "cell_type": "code",
   "execution_count": null,
   "metadata": {},
   "outputs": [],
   "source": []
  },
  {
   "cell_type": "markdown",
   "metadata": {},
   "source": [
    "c) What is your conclusion about the effect of the hydraulic conductivity on the position of the interface for this case? \n",
    "What is your conclusion about the effect of the gradient divided by the density of the saltwater on the interface for this case?"
   ]
  },
  {
   "cell_type": "markdown",
   "metadata": {},
   "source": [
    "### Performance of Dupuit interface\n",
    "The Dupuit interface, which neglects resistance to vertical flow, is a very accurate approximation of the exact interface for isotropic aquifers. The difference in the position of the toe between the exact and Dupuit solutions increases when the vertical anisotropy in the hydraulic conductivity increases. For highly anistropic aquifers, it is proposed to add an effective resistance layer along the bottom of the sea in Dupuit models. The figure shown below gives a flow net for interface flow (no Dupuit approximation) and the scaled along the axes are equal. Note that the variation of the head in the vertical direction is very small except for near the coast line. In the second figure, the interface position for interface flow (no Dupuit approximation, black curve) is compared to the Dupuit interface position (red curve). They are indeed very close.\n",
    "\n",
    "<img src=\"./img/flownet.png\" width=\"800\">\n",
    "\n",
    "<img src=\"./img/comparison.png\" width=\"800\">"
   ]
  },
  {
   "cell_type": "markdown",
   "metadata": {},
   "source": [
    "### Resistance layer at the bottom of the sea\n",
    "\n",
    "Consider confined flow towards the coast where there is a resistance layer at the bottom of the sea. The resistance layer represents either a physical layer or a model layer that represents the effective vertical resistance of the (anisotropic) aquifer.\n",
    "Flow is confined below the land and semi-confined below the sea. The leaky sea bottom extends a distance $L_s$ below the sea. The freshwater is moving and the saltwater is at rest.\n",
    "\n",
    "![](./img/semi_coast_layout.png)\n",
    "\n",
    "Input variables:\n",
    "* `k`: hydraulic conductivity [m/d]\n",
    "* `H`: aquifer thickness [m]\n",
    "* `c`: resistance of leaky layer [d]\n",
    "* `grad`: absolute value of head gradient towards coast upstream of interface toe\n",
    "* `rhof`: density of fresh water [kg/m3]\n",
    "* `rhos`: density of salt water [kg/m3]\n",
    "* `Ls`: length of leaky sea bottom below sea (default is `None`, which means it extends to infinity) [m]\n",
    "* `ztop`: elevation of top of aquifer with respect to datum [m]\n",
    "* `sealevel`: elevation of sealevel with respect to datum [m]"
   ]
  },
  {
   "cell_type": "code",
   "execution_count": null,
   "metadata": {},
   "outputs": [],
   "source": [
    "sc1 = SemiCoast(k=10, H=20, c=100, grad=0.0005, rhof=1000, rhos=1025, \n",
    "                ztop=-10, sealevel=0.5)\n",
    "print('toe of interface at:', sc1.toe())\n",
    "print('tip of interface at:', sc1.tip())\n",
    "sc1.plot(xmin=-500, xmax=300);"
   ]
  },
  {
   "cell_type": "markdown",
   "metadata": {},
   "source": [
    "### Exercise 2\n",
    "\n",
    "Use the parameters given above and answer the following questions:\n",
    "\n",
    "a) Determine the gradient such that the toe is 1000 m inland of the coast. Use `xmin=-1000` and `xmax=500` when plotting the interface.\n",
    "\n",
    "b) Determine the gradient such that the toe is at the coast line. Use `xmin=-1000` and `xmax=500` when plotting the interface.\n",
    "\n",
    "c) Use a gradient of 0.0005. Raise the sealevel by 1 m. What is the effect of sealevel rise on the interface?"
   ]
  },
  {
   "cell_type": "code",
   "execution_count": null,
   "metadata": {},
   "outputs": [],
   "source": []
  },
  {
   "cell_type": "code",
   "execution_count": null,
   "metadata": {},
   "outputs": [],
   "source": []
  },
  {
   "cell_type": "markdown",
   "metadata": {},
   "source": [
    "### Specify the inland head rather than the gradient\n",
    "It is often more convenient to specify an inland head rather than try to estimate the gradient. For example, consider the case that the head is 1.5 m  at $x=-1000$ m (so 1 m above the sealevel of 0.5 at 1000 m inland)."
   ]
  },
  {
   "cell_type": "code",
   "execution_count": null,
   "metadata": {},
   "outputs": [],
   "source": [
    "sch1 = SemiCoastHead(k=10, H=10, c=100, x=-1000, h=1.5, rhof=1000, rhos=1025, \n",
    "                     ztop=-10, sealevel=0.5)\n",
    "print('toe of interface at:', sch1.toe())\n",
    "print('tip of interface at:', sch1.tip())\n",
    "print('computed gradient:', sch1.grad)\n",
    "sch1.plot(xmin=-500, xmax=200);"
   ]
  },
  {
   "cell_type": "markdown",
   "metadata": {},
   "source": [
    "### Exercise 3\n",
    "\n",
    "For the data given above, determine and plot the interface when the head at $x=-1000$ m is $h=2$ m. Next, determine the effect of raising the sealevel by 1 m. What is the effect of raising the sealevel now?"
   ]
  },
  {
   "cell_type": "code",
   "execution_count": null,
   "metadata": {},
   "outputs": [],
   "source": []
  },
  {
   "cell_type": "code",
   "execution_count": null,
   "metadata": {},
   "outputs": [],
   "source": []
  }
 ],
 "metadata": {
  "kernelspec": {
   "display_name": "Python 3",
   "language": "python",
   "name": "python3"
  },
  "language_info": {
   "codemirror_mode": {
    "name": "ipython",
    "version": 3
   },
   "file_extension": ".py",
   "mimetype": "text/x-python",
   "name": "python",
   "nbconvert_exporter": "python",
   "pygments_lexer": "ipython3",
   "version": "3.6.5"
  },
  "widgets": {
   "state": {},
   "version": "1.1.2"
  }
 },
 "nbformat": 4,
 "nbformat_minor": 1
}
