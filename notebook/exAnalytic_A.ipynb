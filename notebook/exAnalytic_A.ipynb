{
 "cells": [
  {
   "cell_type": "markdown",
   "metadata": {},
   "source": [
    "![alt text](./img/header.png)\n",
    "\n",
    "# Analytic Solution Exercise A\n",
    "## Steady interface flow below an elongated island\n",
    "Mark Bakker, TU Delft, The Netherlands"
   ]
  },
  {
   "cell_type": "code",
   "execution_count": null,
   "metadata": {
    "collapsed": false
   },
   "outputs": [],
   "source": [
    "from __future__ import division\n",
    "from __future__ import print_function\n",
    "import warnings\n",
    "warnings.filterwarnings(\"ignore\")\n",
    "from pylab import *\n",
    "%matplotlib notebook\n",
    "from island_interface import *"
   ]
  },
  {
   "cell_type": "markdown",
   "metadata": {},
   "source": [
    "### Interface flow below a long island\n",
    "Consider steady interface flow below a long island. A cross-section across the island is shown in the figure. The width of the island is equal to $2L$. Flow is unconfined. Heads and elevations are measured with respect to mean sea level. The hydraulic conductivity of the aquifer is $k$. Groundwater recharge is equal to $N$.  \n",
    "![](./img/island_interface.png)\n",
    "Input variables:\n",
    "* `k`: hydraulic conductivity [m/d]\n",
    "* `D`: depth of impermeable bottom of aquifer [m]\n",
    "* `rhof`: density of fresh water [kg/m3]\n",
    "* `rhos`: density of salt water [kg/m3]\n",
    "* `L`: half the width of the island [m]\n",
    "* `N`: recharge rate [m/d]"
   ]
  },
  {
   "cell_type": "markdown",
   "metadata": {},
   "source": [
    "### Case 1. Deep aquifer, no leaky sea bed."
   ]
  },
  {
   "cell_type": "code",
   "execution_count": null,
   "metadata": {
    "collapsed": false,
    "scrolled": true
   },
   "outputs": [],
   "source": [
    "island = IslandInterface(k=10, D=1000, c=0, rhof=1000, rhos=1025, L=1000, N=0.001)\n",
    "island.plot()"
   ]
  },
  {
   "cell_type": "markdown",
   "metadata": {},
   "source": [
    "### Exercise 1\n",
    "Find the recharge such that the elevation of the interface at the center of the island is -50 m and -100 m."
   ]
  },
  {
   "cell_type": "code",
   "execution_count": null,
   "metadata": {
    "collapsed": false
   },
   "outputs": [],
   "source": []
  },
  {
   "cell_type": "markdown",
   "metadata": {
    "collapsed": true
   },
   "source": [
    "### Case 2. Finite depth aquifer, no leaky sea bed."
   ]
  },
  {
   "cell_type": "code",
   "execution_count": null,
   "metadata": {
    "collapsed": false
   },
   "outputs": [],
   "source": [
    "island = IslandInterface(k=10, D=50, c=0, rhof=1000, rhos=1025, L=1000, N=0.001)\n",
    "island.plot()"
   ]
  },
  {
   "cell_type": "markdown",
   "metadata": {},
   "source": [
    "### Exercise 2\n",
    "Plot the interface for the two values you found under Exercise 1, but now with a impermeable aquifer base at -50 m. For the first case (depth of interface at center of island equals -50) the figure should look identical. Determine the position of the toe of the interface for the second case."
   ]
  },
  {
   "cell_type": "code",
   "execution_count": null,
   "metadata": {
    "collapsed": false
   },
   "outputs": [],
   "source": []
  },
  {
   "cell_type": "markdown",
   "metadata": {},
   "source": [
    "### Case 3. Streamlines"
   ]
  },
  {
   "cell_type": "code",
   "execution_count": null,
   "metadata": {
    "collapsed": false
   },
   "outputs": [],
   "source": [
    "island = IslandInterface(k=10, D=50, c=0, rhof=1000, rhos=1025, L=1000, N=0.001, Nstreamlines=20)\n",
    "island.plot()"
   ]
  },
  {
   "cell_type": "markdown",
   "metadata": {},
   "source": [
    "### Exercise 3\n",
    "What is the infiltration rate N such that the interface is at the bottom of the aquifer, using that k=10 m/d. What is N/k for this case?\n",
    "\n",
    "What is the hydraulic conductivity such that the interface is at the bottom of the aquifer using that N=0.001 m/d. What is N/k for this case?\n"
   ]
  },
  {
   "cell_type": "code",
   "execution_count": null,
   "metadata": {
    "collapsed": false
   },
   "outputs": [],
   "source": []
  },
  {
   "cell_type": "markdown",
   "metadata": {},
   "source": [
    "### Finite thickness aquifer, leaky seabed\n",
    "Limitation: toe of interface must be below the island (so not beyond the coast line)."
   ]
  },
  {
   "cell_type": "code",
   "execution_count": null,
   "metadata": {
    "collapsed": false
   },
   "outputs": [],
   "source": [
    "island = IslandInterface(k=10, D=1000, c=100, rhof=1000, rhos=1025, L=1000, N=0.001, Nstreamlines=20)\n",
    "island.plot()"
   ]
  },
  {
   "cell_type": "markdown",
   "metadata": {},
   "source": [
    "### Exercise 4\n",
    "Estimate the average residence time when the effective porosity equals 0.3(-)"
   ]
  },
  {
   "cell_type": "code",
   "execution_count": null,
   "metadata": {
    "collapsed": true
   },
   "outputs": [],
   "source": []
  }
 ],
 "metadata": {
  "kernelspec": {
   "display_name": "Python 3",
   "language": "python",
   "name": "python3"
  },
  "language_info": {
   "codemirror_mode": {
    "name": "ipython",
    "version": 3
   },
   "file_extension": ".py",
   "mimetype": "text/x-python",
   "name": "python",
   "nbconvert_exporter": "python",
   "pygments_lexer": "ipython3",
   "version": "3.5.1"
  },
  "widgets": {
   "state": {},
   "version": "1.1.2"
  }
 },
 "nbformat": 4,
 "nbformat_minor": 0
}
