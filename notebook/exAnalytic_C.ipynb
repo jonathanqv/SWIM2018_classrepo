{
 "cells": [
  {
   "cell_type": "markdown",
   "metadata": {},
   "source": [
    "![alt text](./img/header.png)\n",
    "\n",
    "# Analytic Solution Exercise C\n",
    "## Steady interface flow towards the coast with a pumping well\n",
    "Mark Bakker, TU Delft, The Netherlands"
   ]
  },
  {
   "cell_type": "markdown",
   "metadata": {},
   "source": [
    "The purpose of this exerise is to ..."
   ]
  },
  {
   "cell_type": "code",
   "execution_count": null,
   "metadata": {
    "collapsed": false,
    "scrolled": true
   },
   "outputs": [],
   "source": [
    "from __future__ import division\n",
    "from __future__ import print_function\n",
    "import warnings\n",
    "warnings.filterwarnings(\"ignore\")\n",
    "from pylab import *\n",
    "from well_near_coastline import *\n",
    "%matplotlib inline"
   ]
  },
  {
   "cell_type": "markdown",
   "metadata": {},
   "source": [
    "### A well near the coast\n",
    "Flow is unconfined. The freshwater is moving and the saltwater is at rest.\n",
    "![](./img/well_near_coast.png)\n",
    "Input variables:\n",
    "* `k`: hydraulic conductivity [m/d]\n",
    "* `D`: depth of impermeable bottom of aquifer [m]\n",
    "* `rhof`: density of fresh water [kg/m3]\n",
    "* `rhos`: density of salt water [kg/m3]\n",
    "* `Qo`: flow towards the coast per unit length of coastline [m2/d]\n",
    "* `d`: distance of well from the coast [m]\n",
    "* `rw`: radius of the well [m]\n",
    "* `Q`: discharge of the well [m3/d]"
   ]
  },
  {
   "cell_type": "code",
   "execution_count": null,
   "metadata": {
    "collapsed": false,
    "scrolled": true
   },
   "outputs": [],
   "source": [
    "wc = WellNearCoast(k=10, D=20, rhof=1000, rhos=1025, Q0=0.2, d=2000, rw=0.3, Q=800)\n",
    "wc.plot()"
   ]
  },
  {
   "cell_type": "markdown",
   "metadata": {},
   "source": [
    "### Exercise 1\n",
    "The interface is suddenly drawn to the well. Increase the discharge from 800 m$^3$/d to 900 m$^3$/d and determine the largest discharge that can be pumped before the interface reaches the well."
   ]
  },
  {
   "cell_type": "code",
   "execution_count": null,
   "metadata": {
    "collapsed": true,
    "scrolled": true
   },
   "outputs": [],
   "source": []
  }
 ],
 "metadata": {
  "kernelspec": {
   "display_name": "Python 3",
   "language": "python",
   "name": "python3"
  },
  "language_info": {
   "codemirror_mode": {
    "name": "ipython",
    "version": 3
   },
   "file_extension": ".py",
   "mimetype": "text/x-python",
   "name": "python",
   "nbconvert_exporter": "python",
   "pygments_lexer": "ipython3",
   "version": "3.5.1"
  },
  "widgets": {
   "state": {},
   "version": "1.1.2"
  }
 },
 "nbformat": 4,
 "nbformat_minor": 0
}
