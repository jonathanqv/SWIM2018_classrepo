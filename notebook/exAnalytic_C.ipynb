{
 "cells": [
  {
   "cell_type": "markdown",
   "metadata": {},
   "source": [
    "![alt text](./img/header.png)\n",
    "\n",
    "# Analytic Solution Exercise C\n",
    "## Steady unconfined interface flow towards the coast with a pumping well\n",
    "Mark Bakker, TU Delft, The Netherlands"
   ]
  },
  {
   "cell_type": "code",
   "execution_count": null,
   "metadata": {
    "scrolled": true
   },
   "outputs": [],
   "source": [
    "from well_near_coastline import WellNearCoast\n",
    "%matplotlib inline"
   ]
  },
  {
   "cell_type": "markdown",
   "metadata": {},
   "source": [
    "### A well near the coast\n",
    "Consider steady unconfined interface flow. The freshwater is moving and the saltwater is at rest. The coast is in the West.\n",
    "![](./img/well_near_coast.png)\n",
    "Input variables:\n",
    "* `k`: hydraulic conductivity [m/d]\n",
    "* `D`: depth of impermeable bottom of aquifer below sealevel [m]\n",
    "* `rhof`: density of fresh water [kg/m$^3$]\n",
    "* `rhos`: density of salt water [kg/m$^3$]\n",
    "* `Qo`: flow towards the coast per unit length of coastline [m$^2$/d] (so $kH\\text{d}h/\\text{d}x|$)\n",
    "* `d`: distance of well from the coast [m]\n",
    "* `rw`: radius of the well [m]\n",
    "* `Q`: discharge of the well [m$^3$/d]"
   ]
  },
  {
   "cell_type": "code",
   "execution_count": null,
   "metadata": {
    "scrolled": false
   },
   "outputs": [],
   "source": [
    "wc = WellNearCoast(k=10, D=20, rhof=1000, rhos=1025, Q0=0.2, d=2000, rw=0.3, Q=800)\n",
    "wc.plot();"
   ]
  },
  {
   "cell_type": "markdown",
   "metadata": {},
   "source": [
    "#### Exercise 1\n",
    "When you raise the discharge, you find out that the interface is suddenly drawn to the well. Slowly increase the discharge from 800 m$^3$/d to 900 m$^3$/d and determine the maximum discharge that can be pumped before the interface reaches the well."
   ]
  },
  {
   "cell_type": "code",
   "execution_count": null,
   "metadata": {
    "scrolled": false
   },
   "outputs": [],
   "source": []
  }
 ],
 "metadata": {
  "kernelspec": {
   "display_name": "Python 3",
   "language": "python",
   "name": "python3"
  },
  "language_info": {
   "codemirror_mode": {
    "name": "ipython",
    "version": 3
   },
   "file_extension": ".py",
   "mimetype": "text/x-python",
   "name": "python",
   "nbconvert_exporter": "python",
   "pygments_lexer": "ipython3",
   "version": "3.6.5"
  },
  "widgets": {
   "state": {},
   "version": "1.1.2"
  }
 },
 "nbformat": 4,
 "nbformat_minor": 1
}
