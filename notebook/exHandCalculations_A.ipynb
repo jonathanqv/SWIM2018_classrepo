{
 "cells": [
  {
   "cell_type": "markdown",
   "metadata": {},
   "source": [
    "![alt text](./img/header.png)\n",
    "\n",
    "# Exercise A: Calculation of Head and Equivalent Freshwater Head\n",
    "\n",
    "The purpose of this exercise is to familiarize course participants with the equations for calculating head and equivalent freshwater head.  These calculations will be made for a one-dimensional hydrostatic water column that contains freshwater overlying saline water.  These are important calculations when setting up variable-density numerical models.  "
   ]
  },
  {
   "cell_type": "code",
   "execution_count": null,
   "metadata": {},
   "outputs": [],
   "source": [
    "# %load nbsetup.py\n",
    "%matplotlib inline\n",
    "import sys\n",
    "import os\n",
    "import numpy as np\n",
    "import matplotlib.pyplot as plt\n",
    "import flopy"
   ]
  },
  {
   "cell_type": "markdown",
   "metadata": {},
   "source": [
    "<img src=\"./img/FreshwaterHead.png\" width=\"400\" height=\"500\" />"
   ]
  },
  {
   "cell_type": "markdown",
   "metadata": {
    "collapsed": true
   },
   "source": [
    "*Fluid pressure at above a datum*\n",
    "\n",
    "$P_n = \\rho_n g \\left( h - Z_n \\right)$,\n",
    "\n",
    "where $P_n$ is the pressure at point $n$ [ML$^{-1}$T$^{-2}$], $\\rho$ is the density of water at point $n$ [ML$^{-3}$], $g$ is gravitational acceleration [LT$^{-1}$], $h$ is head [L], and $Z_n$ is the elevation of point $n$ above datum [L].\n",
    "\n",
    "*Conversion of pressure to head in a piezometer above a datum*\n",
    "\n",
    "$h = \\frac{P_n}{\\rho_n g} + Z_n$.\n",
    "\n",
    "*Conversion of head to freshwater head*\n",
    "\n",
    "$h_f = \\frac{\\rho}{\\rho_f} h - \\frac{\\rho - \\rho_f}{\\rho_f} Z_n$\n",
    "\n",
    "where $\\rho_f$ is the density of freshwater [ML$^{-3}$].\n",
    "\n",
    "*Conversion of freshwater head to head*\n",
    "\n",
    "$h = \\frac{\\rho_f}{\\rho} h_f + \\frac{\\rho - \\rho_f}{\\rho} Z_n$.\n",
    "\n",
    "From [Guo and Langevin (2002)](http://fl.water.usgs.gov/PDF_files/twri_6_A7_guo_langevin.pdf)."
   ]
  },
  {
   "cell_type": "markdown",
   "metadata": {},
   "source": [
    "### Functions to calculate pressure, head, and convert to and from freshwater heads\n",
    "\n",
    "The functions below can be used to calculate the pressure at point, head at a point, convert head at a point to freshwater head at a point, and convert freshwater head at a point to head at a point.\n",
    "\n",
    "These functions will help understand the calculations used in SEAWAT."
   ]
  },
  {
   "cell_type": "code",
   "execution_count": null,
   "metadata": {
    "collapsed": true
   },
   "outputs": [],
   "source": [
    "def calc_pressure(rho=1000., h=0., z=0., g=9.81):\n",
    "    return rho * g * (h - z)\n",
    "\n",
    "def calc_head(p=0., rho=1000., z=0., g=9.81):\n",
    "    return (p/(rho*g)) + z\n",
    "\n",
    "def convertto_freshwater_head(rho=1000., h=0., z=0., rhof=1000.):\n",
    "    return (rho/rhof) * h - ((rho-rhof)/rhof) * z\n",
    "\n",
    "def convertto_head(rho=1000., hf=0., z=0., rhof=1000.):\n",
    "    return (rhof/rho) * hf + ((rho-rhof)/rho) * z"
   ]
  },
  {
   "cell_type": "markdown",
   "metadata": {
    "collapsed": true
   },
   "source": [
    "### Calculate the pressure, head, and equivalent head at a point\n",
    "\n",
    "Calculate the pressure at an elevation of -5 m in a well filled with freshwater if the water level measurement is 0 m."
   ]
  },
  {
   "cell_type": "code",
   "execution_count": null,
   "metadata": {},
   "outputs": [],
   "source": [
    "z = -5\n",
    "rho = 1000.\n",
    "h = 0.\n",
    "p = calc_pressure(rho=rho, h=h, z=z)\n",
    "print(p)"
   ]
  },
  {
   "cell_type": "markdown",
   "metadata": {},
   "source": [
    "Calculate the head using the calculated pressure"
   ]
  },
  {
   "cell_type": "code",
   "execution_count": null,
   "metadata": {},
   "outputs": [],
   "source": [
    "print(calc_head(p=p, rho=rho, z=z))"
   ]
  },
  {
   "cell_type": "markdown",
   "metadata": {},
   "source": [
    "Convert the head to a freshwater head"
   ]
  },
  {
   "cell_type": "code",
   "execution_count": null,
   "metadata": {},
   "outputs": [],
   "source": [
    "hf = convertto_freshwater_head(rho=rho, h=h, z=z)\n",
    "print(hf)"
   ]
  },
  {
   "cell_type": "markdown",
   "metadata": {},
   "source": [
    "### Exercise 1\n",
    "\n",
    "How would the pressure and freshwater head change if the well was filled with saltwater ($\\rho$ = 1025. kgm$^{-3}$)?"
   ]
  },
  {
   "cell_type": "code",
   "execution_count": null,
   "metadata": {},
   "outputs": [],
   "source": []
  },
  {
   "cell_type": "markdown",
   "metadata": {},
   "source": [
    "### Hydrostatic pressure with depth\n",
    "\n",
    "Hydrostatic pressure at elevation $z$ can be calculated using\n",
    "\n",
    "$P(z) = \\int_{z0}^{z} \\rho(z') g dz'$,\n",
    "\n",
    "where $z0$ is the starting elevation, $z$ is the elevation of interest, and $\\rho(z')$ is the fluid density between $z0$ and $z$. \n",
    "\n",
    "In a variable density environment the hydrostatic pressure with depth can be calculated as\n",
    "\n",
    "$P(z) = P(z0) + \\bar{\\rho}(z) g \\Delta z$,\n",
    "\n",
    "where $P(z0)$ is the pressure at $z0$, $\\bar{\\rho}(z')$ is the average density between $z0$ and $z$, and $\\Delta z = z - z0$.\n",
    "\n",
    "The python function below calculates a hydrostatic pressure profile using a passed numpy array of $\\rho$ with depth and elevations ($z$)."
   ]
  },
  {
   "cell_type": "code",
   "execution_count": null,
   "metadata": {
    "collapsed": true
   },
   "outputs": [],
   "source": [
    "def calc_pressure_profile(rho, z, h0=0., g=9.81):\n",
    "    p = np.zeros((z.shape[0]), dtype=np.float)\n",
    "    p[0] = rho[0] * g * (h0 - z[0])\n",
    "    for idx in range(1, z.shape[0]):\n",
    "        dz = 0.5 * (z[idx-1] - z[idx])\n",
    "        p[idx] = p[idx-1] + (rho[idx-1] * dz + rho[idx] * dz) * g\n",
    "    return p"
   ]
  },
  {
   "cell_type": "markdown",
   "metadata": {},
   "source": [
    "### Calculate the pressure and head for a vertical profile\n",
    "\n",
    "Calculate the pressure and head for a vertical profile of 30 cells with a $\\Delta z$ = 10 m, land surface elevation (`zs`) of 0 m, saltwater occuring at and below a depth of -300 m (`zl`), and a well water level (`hw`) of 0 m. The following tasks can be thought of as representing calculation of hydrostatic conditions in a model with 30 layers, 10 m layer thicknesses, and 200 m of freshwater overlying 100 m of seawater.\n",
    "\n",
    "Create an vector with elevations to calculate the pressure and head."
   ]
  },
  {
   "cell_type": "code",
   "execution_count": null,
   "metadata": {},
   "outputs": [],
   "source": [
    "zs = 0.\n",
    "zl = -300.\n",
    "dz = 10.\n",
    "z = np.arange(zs, zl, -dz) - dz/2.\n",
    "print(z)"
   ]
  },
  {
   "cell_type": "markdown",
   "metadata": {},
   "source": [
    "Develop a distribution of fluid density (`rho`) with depth (`z`)."
   ]
  },
  {
   "cell_type": "code",
   "execution_count": null,
   "metadata": {},
   "outputs": [],
   "source": [
    "rho = np.ones(z.shape[0], dtype=np.float) * 1000.\n",
    "rho[20:] = 1025.\n",
    "plt.plot(rho, z)\n",
    "plt.xlim(995, 1030)\n",
    "plt.xlabel('Fluid Density')\n",
    "plt.ylabel('Depth, m')\n",
    "print(rho)"
   ]
  },
  {
   "cell_type": "markdown",
   "metadata": {},
   "source": [
    "Calculate the pressure profile (`p`) using `rho`, `z`, and `hw`."
   ]
  },
  {
   "cell_type": "code",
   "execution_count": null,
   "metadata": {},
   "outputs": [],
   "source": [
    "hw = 0.\n",
    "p = calc_pressure_profile(rho=rho, z=z, h0=hw)\n",
    "plt.plot(p, z)\n",
    "plt.xlabel('Pressure')\n",
    "plt.ylabel('Depth, m')\n",
    "print(p)"
   ]
  },
  {
   "cell_type": "markdown",
   "metadata": {},
   "source": [
    "Calculate the native head (`h`) with depth using `p`, `rho`, and `z`."
   ]
  },
  {
   "cell_type": "code",
   "execution_count": null,
   "metadata": {},
   "outputs": [],
   "source": [
    "h = calc_head(p=p, rho=rho, z=z)\n",
    "plt.plot(h, z)\n",
    "plt.xlabel('Head, m')\n",
    "plt.ylabel('Depth, m')\n",
    "print(h)"
   ]
  },
  {
   "cell_type": "markdown",
   "metadata": {},
   "source": [
    "### Exercise 2\n",
    "\n",
    "Convert the head to freshwater head and plot the freshwater head with depth (`hf`) using `rho`, `h`, and `z`."
   ]
  },
  {
   "cell_type": "code",
   "execution_count": null,
   "metadata": {},
   "outputs": [],
   "source": []
  },
  {
   "cell_type": "markdown",
   "metadata": {},
   "source": [
    "Convert the freshwater head to head and plot the native head with depth (`h`) using `rho`, `hf`, and `z`."
   ]
  },
  {
   "cell_type": "markdown",
   "metadata": {},
   "source": [
    "### Exercise 3\n",
    "\n",
    "Recalculate the pressure, head, and freshwater head for the case where 50 m of freshwater overlies 250 m of saltwater."
   ]
  },
  {
   "cell_type": "code",
   "execution_count": null,
   "metadata": {
    "collapsed": true
   },
   "outputs": [],
   "source": []
  },
  {
   "cell_type": "code",
   "execution_count": null,
   "metadata": {
    "collapsed": true
   },
   "outputs": [],
   "source": []
  }
 ],
 "metadata": {
  "kernelspec": {
   "display_name": "Python 3",
   "language": "python",
   "name": "python3"
  },
  "language_info": {
   "codemirror_mode": {
    "name": "ipython",
    "version": 3
   },
   "file_extension": ".py",
   "mimetype": "text/x-python",
   "name": "python",
   "nbconvert_exporter": "python",
   "pygments_lexer": "ipython3",
   "version": "3.6.5"
  }
 },
 "nbformat": 4,
 "nbformat_minor": 1
}
