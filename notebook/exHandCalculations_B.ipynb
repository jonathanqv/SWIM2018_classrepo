{
 "cells": [
  {
   "cell_type": "markdown",
   "metadata": {},
   "source": [
    "![alt text](./img/header.png)\n",
    "\n",
    "# Exercise B: Calculation of Density Slopes and Fluid Density\n",
    "\n",
    "The purpose of this exercise is to familiarize course participants with the equations for calculating density, density slopes, heads and pressures.  These are important calculations when setting up a variable-density numerical model.   "
   ]
  },
  {
   "cell_type": "code",
   "execution_count": null,
   "metadata": {
    "collapsed": false
   },
   "outputs": [],
   "source": [
    "# %load nbsetup.py\n",
    "%matplotlib inline\n",
    "import sys\n",
    "import os\n",
    "import numpy as np\n",
    "import matplotlib.pyplot as plt\n",
    "import flopy"
   ]
  },
  {
   "cell_type": "markdown",
   "metadata": {},
   "source": [
    "## Density Slopes\n",
    "\n",
    "An empirical relation between the density of saltwater and concentration based on [Baxter and Wallace (1916)](http://pubs.acs.org/doi/abs/10.1021/ja02258a010) is defined as\n",
    "\n",
    "$\\rho = \\rho_f + \\frac{\\partial \\rho}{\\partial C} (C - C_f)$\n",
    "\n",
    "where $\\rho$ is fluid density [ML$^{-3}$], $\\rho_f$ the density of freshwater [ML$^{-3}$], $C$ is the concentration of the fluid, and $C_f$ is the concentration of the constituent(s) in freshwater."
   ]
  },
  {
   "cell_type": "markdown",
   "metadata": {},
   "source": [
    "------------------\n",
    "\n",
    "### Exercise 1\n",
    "\n",
    "Assuming $\\rho_f$ = 1000 kg/m$^3$ and $\\rho_s$ = 1025 kg/m$^3$ fill in the following table\n",
    "\n",
    "|                                   |  Cf  |  Cs  | $\\Delta \\rho_{max}$  |  $\\Delta C_{max}$  |  Density Slope  |\n",
    "|-----------------------------------|:----:|:----:|:--------------------:|:------------------:|:---------------:|\n",
    "| TDS in kg/m3                      |  0   | 35   |                   25 | 35                 | 0.7143          |\n",
    "| TDS in lbs/ft3                    |      |      |                      |                    |                 |\n",
    "| TDS in g/l                        |      |      |                      |                    |                 |\n",
    "| TDS in mg/l                       |      |      |                      |                    |                 |\n",
    "| Normalized TDS concentration      |      |      |                      |                    |                 |\n",
    "| Chloride in kg/m3                 |      |      |                      |                    |                 |\n",
    "| Chloride in lbs/ft3               |      |      |                      |                    |                 |\n",
    "| Chloride in g/l                   |      |      |                      |                    |                 |\n",
    "| Chloride in mg/l                  |      |      |                      |                    |                 |\n",
    "| Normalized Chloride concentration |      |      |                      |                    |                 |"
   ]
  },
  {
   "cell_type": "markdown",
   "metadata": {},
   "source": [
    "---------------\n",
    "\n",
    "### Exercise 2\n",
    "\n",
    "Assuming $\\rho_f$ = 62.44 lbs/ft$^3$ and $\\rho_s$ = 64.001 lbs/m$^3$ fill in the following table\n",
    "\n",
    "\n",
    "|                                   |  Cf  |  Cs  | $\\Delta \\rho_{max}$  |  $\\Delta C_{max}$  |  Density Slope  |\n",
    "|-----------------------------------|:----:|:----:|:--------------------:|:------------------:|:---------------:|\n",
    "| TDS in kg/m3                      |      |      |                      |                    |                 |\n",
    "| TDS in lbs/ft3                    |      |      |                      |                    |                 |\n",
    "| TDS in g/l                        |      |      |                      |                    |                 |\n",
    "| TDS in mg/l                       |      |      |                      |                    |                 |\n",
    "| Normalized TDS concentration      |      |      |                      |                    |                 |\n",
    "| Chloride in kg/m3                 |      |      |                      |                    |                 |\n",
    "| Chloride in lbs/ft3               |      |      |                      |                    |                 |\n",
    "| Chloride in g/l                   |      |      |                      |                    |                 |\n",
    "| Chloride in mg/l                  |      |      |                      |                    |                 |\n",
    "| Normalized Chloride concentration |      |      |                      |                    |                 |"
   ]
  },
  {
   "cell_type": "markdown",
   "metadata": {},
   "source": [
    "-------------\n",
    "\n",
    "The linear relation between fluid concentration and density can be extended to include the contribution of multiple species and temperature. The extended fluid concentration fluid density relation is\n",
    "\n",
    "$\\rho = \\rho_f + \\sum_{k=1}^{NS} \\frac{\\partial \\rho}{\\partial C} (C - C_f) + \\frac{\\partial \\rho}{\\partial T} (T - T_0)$,\n",
    "\n",
    "where $NS$ is the number of simulated species, $T$ is the fluid temperature, and $T_0$ is a reference temperature.\n",
    "\n",
    "--------------\n",
    "\n",
    "### Exercise 3\n",
    "\n",
    "Assuming the density of freshwater is 1000 kg/m$^3$ at 4$^{\\circ}$ C and 998.2 kg/m$^3$ at 20$^{\\circ}$ C what is $\\frac{\\partial \\rho}{\\partial T}$?"
   ]
  },
  {
   "cell_type": "code",
   "execution_count": null,
   "metadata": {
    "collapsed": true
   },
   "outputs": [],
   "source": []
  },
  {
   "cell_type": "markdown",
   "metadata": {
    "collapsed": true
   },
   "source": [
    "--------\n",
    "\n",
    "The relation between temperature and density is non-linear between 0 and 100$^{\\circ}$ and is shown below."
   ]
  },
  {
   "cell_type": "code",
   "execution_count": null,
   "metadata": {
    "collapsed": false
   },
   "outputs": [],
   "source": [
    "fn = os.path.join('data', 'Trhorelation.txt')\n",
    "trho = np.genfromtxt(fn, names=['temp', 'rho'])\n",
    "plt.plot(trho['temp'], trho['rho'])\n",
    "print(trho['temp'])\n",
    "print(trho['rho'])"
   ]
  },
  {
   "cell_type": "markdown",
   "metadata": {},
   "source": [
    "---------\n",
    "\n",
    "### Exercise 4\n",
    "\n",
    "Use the data above to calculate $\\frac{\\partial \\rho}{\\partial T}$ between 10 and 32.2$^{\\circ}$ C. "
   ]
  },
  {
   "cell_type": "code",
   "execution_count": null,
   "metadata": {
    "collapsed": false
   },
   "outputs": [],
   "source": []
  },
  {
   "cell_type": "markdown",
   "metadata": {},
   "source": [
    "## Calculation of Fluid Density\n",
    "\n",
    "Calculate the density of the samples shown below using the density slopes that you calculated earlier.\n",
    "\n",
    "### Exercise 5\n",
    "\n",
    "**Sample 1:** TDS = 10,000 mg/l"
   ]
  },
  {
   "cell_type": "code",
   "execution_count": null,
   "metadata": {
    "collapsed": true
   },
   "outputs": [],
   "source": []
  },
  {
   "cell_type": "markdown",
   "metadata": {},
   "source": [
    "**Sample 2:** TDS = 35,000 mg/l"
   ]
  },
  {
   "cell_type": "code",
   "execution_count": null,
   "metadata": {
    "collapsed": true
   },
   "outputs": [],
   "source": []
  },
  {
   "cell_type": "markdown",
   "metadata": {},
   "source": [
    "**Sample 3:** Chloride concentration = 5,000 mg/l"
   ]
  },
  {
   "cell_type": "code",
   "execution_count": null,
   "metadata": {
    "collapsed": true
   },
   "outputs": [],
   "source": []
  },
  {
   "cell_type": "markdown",
   "metadata": {},
   "source": [
    "**Sample 4:** Relative Chloride concentration = 0.5"
   ]
  },
  {
   "cell_type": "code",
   "execution_count": null,
   "metadata": {
    "collapsed": true
   },
   "outputs": [],
   "source": []
  },
  {
   "cell_type": "markdown",
   "metadata": {},
   "source": [
    "**Sample 5:** Chloride concentration = 19,000 mg/l"
   ]
  },
  {
   "cell_type": "code",
   "execution_count": null,
   "metadata": {
    "collapsed": true
   },
   "outputs": [],
   "source": []
  },
  {
   "cell_type": "markdown",
   "metadata": {},
   "source": [
    "**Sample 6:** Chloride concentration = 200 mg/l and TDS = 2000 mg/l (which concentration would provide a better estimate of density)"
   ]
  },
  {
   "cell_type": "code",
   "execution_count": null,
   "metadata": {
    "collapsed": true
   },
   "outputs": [],
   "source": []
  },
  {
   "cell_type": "markdown",
   "metadata": {
    "collapsed": true
   },
   "source": [
    "**Sample 7:** Chloride concentration = 19,000 mg/l with a freshwater density of 999.75 kg/m$^3$ at 10$^{\\circ}$ C."
   ]
  },
  {
   "cell_type": "code",
   "execution_count": null,
   "metadata": {
    "collapsed": true
   },
   "outputs": [],
   "source": []
  },
  {
   "cell_type": "markdown",
   "metadata": {},
   "source": [
    "**Sample 8:** Chloride concentration = 19,000 mg/l at 21$^{\\circ}$ C assuming a $\\frac{\\partial \\rho}{\\partial T}$ of -0.375, a reference temperature ($T0$) of 10$^{\\circ}$ C, and freshwater density of 999.75 kg/m$^3$ at 10$^{\\circ}$ C."
   ]
  },
  {
   "cell_type": "code",
   "execution_count": null,
   "metadata": {
    "collapsed": true
   },
   "outputs": [],
   "source": []
  },
  {
   "cell_type": "code",
   "execution_count": null,
   "metadata": {
    "collapsed": true
   },
   "outputs": [],
   "source": []
  }
 ],
 "metadata": {
  "kernelspec": {
   "display_name": "Python 3",
   "language": "python",
   "name": "python3"
  },
  "language_info": {
   "codemirror_mode": {
    "name": "ipython",
    "version": 3
   },
   "file_extension": ".py",
   "mimetype": "text/x-python",
   "name": "python",
   "nbconvert_exporter": "python",
   "pygments_lexer": "ipython3",
   "version": "3.5.1"
  }
 },
 "nbformat": 4,
 "nbformat_minor": 0
}
