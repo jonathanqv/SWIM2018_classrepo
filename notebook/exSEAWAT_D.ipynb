{
 "cells": [
  {
   "cell_type": "markdown",
   "metadata": {},
   "source": [
    "![alt text](./img/header.png)\n",
    "\n",
    "# SEAWAT Exercise D: Solute and Heat Transport Exercise\n",
    "\n",
    "This notebook is based on the problem presented in the SEAWAT Version 4 manual.  The problem consists of a two-dimensional cross section of a confined coastal aquifer initially saturated with relatively cold seawater at a temperature of 5 degrees Celsius. Warmer freshwater with a temperature of 25 degrees C is injected into the coastal aquifer along the left boundary to represent flow from inland areas. The warmer freshwater flows to the right, where it discharges into a vertical ocean boundary. The ocean boundary is represented with hydrostatic conditions based on a fluid density calculated from seawater salinities at 5 degrees C. No-flow conditions are assigned to the top and bottom boundaries. A complete list of the input values used for the problem is given in the SEAWAT Version 4 manual. This problem is a simplified representation of what might occur in a coastal carbonate platform."
   ]
  },
  {
   "cell_type": "code",
   "execution_count": null,
   "metadata": {},
   "outputs": [],
   "source": [
    "# Setup the python environment\n",
    "%matplotlib inline\n",
    "import sys\n",
    "import os\n",
    "import numpy as np\n",
    "import matplotlib.pyplot as plt\n",
    "import flopy\n",
    "import config"
   ]
  },
  {
   "cell_type": "markdown",
   "metadata": {},
   "source": [
    "## Case 1 -- Salinty and temperature simulation\n",
    "\n",
    "Case 1 is the simplest of these cases. It is a variable-density simulation in which the fluid density is a function only of salinity. Although temperature is represented as species 2, it is represented as a conservative tracer in which thermal equilibration with the solid as well as heat conduction are not represented."
   ]
  },
  {
   "cell_type": "code",
   "execution_count": null,
   "metadata": {},
   "outputs": [],
   "source": [
    "# Grid information\n",
    "lx = 2000.\n",
    "lz = 1000.\n",
    "\n",
    "nlay = 25 # 100\n",
    "nrow = 1\n",
    "ncol = 50 # 200\n",
    "\n",
    "delr = lx / ncol\n",
    "delc = 1.\n",
    "delz = lz / nlay\n",
    "top = 0.0\n",
    "botm = [top - ((i + 1) * delz) for i in range(nlay)]\n",
    "\n",
    "# Temporal discretization\n",
    "nper = 1\n",
    "nstp = 80\n",
    "perlen = 200000\n",
    "\n",
    "# Ibound and strt\n",
    "ibound = np.ones((nlay, nrow, ncol), dtype=np.int)\n",
    "strt = 0.\n",
    "\n",
    "# Hydraulic properties\n",
    "hk = 10.\n",
    "vk = 0.1\n",
    "ss = 1.e-5\n",
    "sy = 0.2\n",
    "\n",
    "# Fluid properties\n",
    "denseref = 1000.\n",
    "drhodc = 25. / 35.\n",
    "ocean_conc = 35.\n",
    "conc_rho_ref = 0.\n",
    "ocean_density = denseref + drhodc * (ocean_conc - conc_rho_ref)\n",
    "\n",
    "# Inflow to left side\n",
    "wel_q = 10.0 / nlay\n",
    "wel_flow_sp = {0:[(k, 0, 0, wel_q) for k in range(nlay)]}\n",
    "\n",
    "# Create a numpy recarray of the constant-head list\n",
    "ocean_h = 0.0\n",
    "chd_ra = flopy.modflow.ModflowChd.get_empty(ncells=nlay, \n",
    "                                            aux_names=['chddensopt', 'chdden'])\n",
    "chd_ra.k = np.arange(nlay)\n",
    "chd_ra.i = 0\n",
    "chd_ra.j = ncol - 1\n",
    "chd_ra.shead = ocean_h\n",
    "chd_ra.ehead = ocean_h\n",
    "chd_ra.chddensopt = 1\n",
    "chd_ra.chdden = ocean_density\n",
    "chd_flow_sp = {0 : chd_ra}"
   ]
  },
  {
   "cell_type": "code",
   "execution_count": null,
   "metadata": {},
   "outputs": [],
   "source": [
    "# Transport properties\n",
    "alphal = 1\n",
    "alphat = 0.1\n",
    "dm_salinity = 1.e-10\n",
    "\n",
    "dt0 = 0.\n",
    "sconc1 = 35.\n",
    "sconc2 = 5.\n",
    "porosity = 0.35\n",
    "\n",
    "# Set up the concentration save times\n",
    "dtsave = 5000.\n",
    "timprs = np.arange(dtsave, perlen + dtsave, dtsave)\n",
    "\n",
    "# Transport boundary for left side\n",
    "itype = flopy.mt3d.Mt3dSsm.itype_dict() \n",
    "wel_conc = 0.0\n",
    "wel_temp = 25.0\n",
    "wel_itype = itype['WEL']\n",
    "wel_conc_sp = {0:[(k, 0, 0, wel_conc, wel_itype, wel_conc, wel_temp) \n",
    "                       for k in range(nlay)]}\n",
    "\n",
    "# Transport boundary for right side\n",
    "ocean_conc = 35.0\n",
    "ocean_temp = 5.0\n",
    "chd_conc_sp = {0:[(k, 0, ncol-1, ocean_conc, itype['CHD'], ocean_conc, ocean_temp)\n",
    "                  for k in range(nlay)]}\n",
    "\n",
    "ssm_data = wel_conc_sp\n",
    "ssm_data[0].extend(chd_conc_sp[0])"
   ]
  },
  {
   "cell_type": "code",
   "execution_count": null,
   "metadata": {},
   "outputs": [],
   "source": [
    "# Build the flopy SEAWAT model\n",
    "model_ws = os.path.join('work', 'exSEAWAT_D')\n",
    "m = flopy.seawat.Seawat('d1', model_ws=model_ws, exe_name=config.swexe)\n",
    "dis = flopy.modflow.ModflowDis(m, nlay=nlay, nrow=nrow, ncol=ncol,\n",
    "                               top=top, botm=botm, delr=delr, delc=delc,\n",
    "                               perlen=perlen, steady=False, nstp=nstp)\n",
    "bas = flopy.modflow.ModflowBas(m, ibound=ibound, strt=strt)\n",
    "lpf = flopy.modflow.ModflowLpf(m, hk=hk, vka=vk, ss=ss)\n",
    "chd = flopy.modflow.ModflowChd(m, stress_period_data=chd_flow_sp, \n",
    "                               dtype=chd_ra.dtype,\n",
    "                               options=['aux chddensopt aux chdden'])\n",
    "wel = flopy.modflow.ModflowWel(m, stress_period_data=wel_flow_sp)\n",
    "pcg = flopy.modflow.ModflowPcg(m, hclose=1.e-5, rclose=1.)\n",
    "oc = flopy.modflow.ModflowOc(m, stress_period_data={(0, 0): ['save head', 'save budget']})\n",
    "\n",
    "vdf = flopy.seawat.SeawatVdf(m, mtdnconc=-1, mfnadvfd=1, nswtcpl=0,\n",
    "                             iwtable=0, densemin=0.0, densemax=0.0,\n",
    "                             denseref=denseref, drhodprhd=0.0, prhrhd=0.0,\n",
    "                             nsrhoeos=1, drhodc=drhodc,\n",
    "                             crhoref=conc_rho_ref)\n",
    "\n",
    "btn = flopy.mt3d.Mt3dBtn(m, prsity=porosity, ncomp=2, mcomp=2, sconc=sconc1,\n",
    "                         sconc2=sconc2, nprs=-1, timprs=timprs)\n",
    "adv = flopy.mt3d.Mt3dAdv(m, mixelm=-1, percel=1.0,)\n",
    "gcg = flopy.mt3d.Mt3dGcg(m, mxiter=1, iter1=200, cclose=1.e-6, isolve=2)\n",
    "dsp = flopy.mt3d.Mt3dDsp(m, al=alphal, trpt=alphat, trpv=alphat,\n",
    "                         dmcoef=dm_salinity, dmcoef2=0.)\n",
    "ssm = flopy.mt3d.Mt3dSsm(m, stress_period_data=ssm_data)"
   ]
  },
  {
   "cell_type": "code",
   "execution_count": null,
   "metadata": {},
   "outputs": [],
   "source": [
    "# Make plot of the grid\n",
    "f = plt.figure(figsize=(15, 5))\n",
    "ax = f.add_subplot(1, 1, 1)\n",
    "mm = flopy.plot.ModelCrossSection(ax=ax, model=m, line={'row': 0})\n",
    "linecollection = mm.plot_grid()\n",
    "patchcollection = mm.plot_bc(ftype='wel')\n",
    "patchcollection = mm.plot_bc(ftype='chd')"
   ]
  },
  {
   "cell_type": "code",
   "execution_count": null,
   "metadata": {},
   "outputs": [],
   "source": [
    "m.write_input()"
   ]
  },
  {
   "cell_type": "code",
   "execution_count": null,
   "metadata": {},
   "outputs": [],
   "source": [
    "fname = os.path.join(model_ws, 'MT3D001.UCN')\n",
    "try:\n",
    "    os.remove(fname)\n",
    "except:\n",
    "    pass\n",
    "m.run_model(silent=False)"
   ]
  },
  {
   "cell_type": "code",
   "execution_count": null,
   "metadata": {},
   "outputs": [],
   "source": [
    "# Extract salinity\n",
    "fname = os.path.join(model_ws, 'MT3D001.UCN')\n",
    "ucnobj = flopy.utils.binaryfile.UcnFile(fname)\n",
    "times = ucnobj.get_times()\n",
    "conc = ucnobj.get_data(totim=times[-1])\n",
    "\n",
    "# Make plot of the simulated salinity\n",
    "f = plt.figure(figsize=(15, 5))\n",
    "ax = f.add_subplot(1, 1, 1)\n",
    "ax.set_title('Salinity Concentration at time = {} days'.format(times[-1]))\n",
    "mm = flopy.plot.ModelCrossSection(ax=ax, model=m, line={'row': 0})\n",
    "cpatchcollection = mm.plot_array(conc, vmin=0.1, vmax=35, edgecolor='k')\n",
    "\n",
    "#fname = os.path.join(model_ws, m.name + '.cbc')\n",
    "#budobj = flopy.utils.CellBudgetFile(fname)\n",
    "#times = budobj.get_times()\n",
    "#frf = budobj.get_data(totim=times[-1], text='FLOW RIGHT FACE')[0]\n",
    "#flf = budobj.get_data(totim=times[-1], text='FLOW LOWER FACE')[0]\n",
    "#x = np.arange(delr*0.5, ncol*delr+0.5*delr, delr)\n",
    "#y = np.arange(-delz*0.5, -nlay*delz+0.5*delz, -delz)\n",
    "#X, Y = np.meshgrid(x, y)\n",
    "#plt.streamplot(X, Y, frf[:, 0, :], flf[:, 0, :], density=[0.5, 1])\n",
    "#vectors\n",
    "#quiver = mm.plot_discharge(frf, flf, color='white')\n",
    "\n",
    "cb = plt.colorbar(cpatchcollection)"
   ]
  },
  {
   "cell_type": "code",
   "execution_count": null,
   "metadata": {},
   "outputs": [],
   "source": [
    "# Extract temperature\n",
    "fname = os.path.join(model_ws, 'MT3D002.UCN')\n",
    "ucnobj = flopy.utils.binaryfile.UcnFile(fname)\n",
    "times = ucnobj.get_times()\n",
    "conc = ucnobj.get_data(totim=times[-1])\n",
    "\n",
    "# Make plot of the simulated salinity\n",
    "f = plt.figure(figsize=(15, 5))\n",
    "ax = f.add_subplot(1, 1, 1)\n",
    "ax.set_title('Temperature at time = {} days'.format(times[-1]))\n",
    "mm = flopy.plot.ModelCrossSection(ax=ax, model=m, line={'row': 0})\n",
    "cpatchcollection = mm.plot_array(conc, vmin=5, vmax=25, edgecolor='k')\n",
    "cb = plt.colorbar(cpatchcollection)"
   ]
  },
  {
   "cell_type": "markdown",
   "metadata": {},
   "source": [
    "## Case 2 -- Add effects of temperature on density\n",
    "\n",
    "The effect of temperature on fluid density is activated for Case 2."
   ]
  },
  {
   "cell_type": "code",
   "execution_count": null,
   "metadata": {},
   "outputs": [],
   "source": [
    "m.name = 'd2'\n",
    "drhodt = -0.375\n",
    "temp_rho_ref = 25.\n",
    "\n",
    "ocean_density = denseref + drhodc * (ocean_conc - conc_rho_ref) + \\\n",
    "                           drhodt * (ocean_temp - temp_rho_ref)\n",
    "ocean_h = 0.0\n",
    "chd_ra = flopy.modflow.ModflowChd.get_empty(ncells=nlay, \n",
    "                                            aux_names=['chddensopt', 'chdden'])\n",
    "chd_ra.k = np.arange(nlay)\n",
    "chd_ra.i = 0\n",
    "chd_ra.j = ncol - 1\n",
    "chd_ra.shead = ocean_h\n",
    "chd_ra.ehead = ocean_h\n",
    "chd_ra.chddensopt = 1\n",
    "chd_ra.chdden = ocean_density\n",
    "chd_flow_sp = {0 : chd_ra}\n",
    "\n",
    "chd = flopy.modflow.ModflowChd(m, stress_period_data=chd_flow_sp, \n",
    "                               dtype=chd_ra.dtype,\n",
    "                               options=['aux chddensopt aux chdden'])\n",
    "\n",
    "vdf = flopy.seawat.SeawatVdf(m, mtdnconc=-1, mfnadvfd=1, nswtcpl=0,\n",
    "                             iwtable=0, densemin=0.0, densemax=0.0,\n",
    "                             denseref=denseref, drhodprhd=0.0, prhrhd=0.0,\n",
    "                             nsrhoeos=2, drhodc=[drhodc, drhodt],\n",
    "                             crhoref=[conc_rho_ref, temp_rho_ref])"
   ]
  },
  {
   "cell_type": "code",
   "execution_count": null,
   "metadata": {},
   "outputs": [],
   "source": [
    "m.write_input()"
   ]
  },
  {
   "cell_type": "code",
   "execution_count": null,
   "metadata": {},
   "outputs": [],
   "source": [
    "fname = os.path.join(model_ws, 'MT3D001.UCN')\n",
    "try:\n",
    "    os.remove(fname)\n",
    "except:\n",
    "    pass\n",
    "m.run_model(silent=False)"
   ]
  },
  {
   "cell_type": "code",
   "execution_count": null,
   "metadata": {},
   "outputs": [],
   "source": [
    "# Extract salinity\n",
    "fname = os.path.join(model_ws, 'MT3D001.UCN')\n",
    "ucnobj = flopy.utils.binaryfile.UcnFile(fname)\n",
    "times = ucnobj.get_times()\n",
    "conc = ucnobj.get_data(totim=times[-1])\n",
    "\n",
    "# Make plot of the simulated salinity\n",
    "f = plt.figure(figsize=(15, 5))\n",
    "ax = f.add_subplot(1, 1, 1)\n",
    "ax.set_title('Salinity Concentration at time = {} days'.format(times[-1]))\n",
    "mm = flopy.plot.ModelCrossSection(ax=ax, model=m, line={'row': 0})\n",
    "cpatchcollection = mm.plot_array(conc, vmin=0.1, vmax=35, edgecolor='k')\n",
    "cb = plt.colorbar(cpatchcollection)"
   ]
  },
  {
   "cell_type": "markdown",
   "metadata": {},
   "source": [
    "## Case 3 -- Heat Conduction\n",
    "\n",
    "In Case 3, heat conduction is included in the simulation by specifying a value for bulk thermal diffusivity ($D_{m\\_temp}$) within the DSP input file. A bulk thermal diffusivity value of 0.15 $m^2/d$ ($1.74 × 10^{-6} m^2/s$) was calculated using equation 25 of the SEAWAT manual."
   ]
  },
  {
   "cell_type": "code",
   "execution_count": null,
   "metadata": {},
   "outputs": [],
   "source": [
    "m.name = 'd3'\n",
    "ktbulk = 2.547\n",
    "cpfluid = 4183.\n",
    "dm_temperature = ktbulk / porosity / denseref / cpfluid\n",
    "print('dm_temperature = {} m2/d'.format(dm_temperature))\n",
    "dm_temperature = dm_temperature * 86400 \n",
    "print('dm_temperature = {} m2/s'.format(dm_temperature))"
   ]
  },
  {
   "cell_type": "code",
   "execution_count": null,
   "metadata": {},
   "outputs": [],
   "source": [
    "dsp = flopy.mt3d.Mt3dDsp(m, al=alphal, trpt=alphat, trpv=alphat,\n",
    "                         multiDiff=True, dmcoef=dm_salinity, \n",
    "                         dmcoef2=dm_temperature)"
   ]
  },
  {
   "cell_type": "code",
   "execution_count": null,
   "metadata": {},
   "outputs": [],
   "source": [
    "m.write_input()"
   ]
  },
  {
   "cell_type": "code",
   "execution_count": null,
   "metadata": {},
   "outputs": [],
   "source": [
    "fname = os.path.join(model_ws, 'MT3D001.UCN')\n",
    "try:\n",
    "    os.remove(fname)\n",
    "except:\n",
    "    pass\n",
    "m.run_model(silent=False)"
   ]
  },
  {
   "cell_type": "code",
   "execution_count": null,
   "metadata": {},
   "outputs": [],
   "source": [
    "# Extract salinity\n",
    "fname = os.path.join(model_ws, 'MT3D001.UCN')\n",
    "ucnobj = flopy.utils.binaryfile.UcnFile(fname)\n",
    "times = ucnobj.get_times()\n",
    "conc = ucnobj.get_data(totim=times[-1])\n",
    "\n",
    "# Make plot of the simulated salinity\n",
    "f = plt.figure(figsize=(15, 5))\n",
    "ax = f.add_subplot(1, 1, 1)\n",
    "ax.set_title('Salinity Concentration at time = {} days'.format(times[-1]))\n",
    "mm = flopy.plot.ModelCrossSection(ax=ax, model=m, line={'row': 0})\n",
    "cpatchcollection = mm.plot_array(conc, vmin=0.1, vmax=35, edgecolor='k')\n",
    "cb = plt.colorbar(cpatchcollection)"
   ]
  },
  {
   "cell_type": "code",
   "execution_count": null,
   "metadata": {},
   "outputs": [],
   "source": [
    "# Extract temperature\n",
    "fname = os.path.join(model_ws, 'MT3D002.UCN')\n",
    "ucnobj = flopy.utils.binaryfile.UcnFile(fname)\n",
    "times = ucnobj.get_times()\n",
    "conc = ucnobj.get_data(totim=times[-1])\n",
    "\n",
    "# Make plot of the simulated salinity\n",
    "f = plt.figure(figsize=(15, 5))\n",
    "ax = f.add_subplot(1, 1, 1)\n",
    "ax.set_title('Temperature at time = {} days'.format(times[-1]))\n",
    "mm = flopy.plot.ModelCrossSection(ax=ax, model=m, line={'row': 0})\n",
    "cpatchcollection = mm.plot_array(conc, vmin=5, vmax=25, edgecolor='k')\n",
    "cb = plt.colorbar(cpatchcollection)"
   ]
  },
  {
   "cell_type": "markdown",
   "metadata": {},
   "source": [
    "## Case 4 -- Thermal equilibration with solid\n",
    "\n",
    "In Case 4, thermal equilibration between the fluid and the solid matrix is included in the simulation. This feature is activated using the MT3DMS Reactions (RCT) Package, which will be created and added to the name file. This \"reaction\" process is activated only for the temperature species (species 2) by entering $2.0 × 10^{-4} m^3 /kg$ for Kd_temp. "
   ]
  },
  {
   "cell_type": "code",
   "execution_count": null,
   "metadata": {},
   "outputs": [],
   "source": [
    "m.name = 'd4'\n",
    "rhobulk = 1761.5\n",
    "kd_temp = 2.e-4\n",
    "kd_salinity = 0."
   ]
  },
  {
   "cell_type": "code",
   "execution_count": null,
   "metadata": {},
   "outputs": [],
   "source": [
    "rct = flopy.mt3d.Mt3dRct(m, isothm=1, igetsc=0, rhob=rhobulk, sp1=kd_salinity,\n",
    "                         sp12=kd_temp)"
   ]
  },
  {
   "cell_type": "code",
   "execution_count": null,
   "metadata": {},
   "outputs": [],
   "source": [
    "m.write_input()"
   ]
  },
  {
   "cell_type": "code",
   "execution_count": null,
   "metadata": {},
   "outputs": [],
   "source": [
    "fname = os.path.join(model_ws, 'MT3D001.UCN')\n",
    "try:\n",
    "    os.remove(fname)\n",
    "except:\n",
    "    pass\n",
    "m.run_model(silent=False)"
   ]
  },
  {
   "cell_type": "code",
   "execution_count": null,
   "metadata": {},
   "outputs": [],
   "source": [
    "# Extract salinity\n",
    "fname = os.path.join(model_ws, 'MT3D001.UCN')\n",
    "ucnobj = flopy.utils.binaryfile.UcnFile(fname)\n",
    "times = ucnobj.get_times()\n",
    "conc = ucnobj.get_data(totim=times[-1])\n",
    "\n",
    "# Make plot of the simulated salinity\n",
    "f = plt.figure(figsize=(15, 5))\n",
    "ax = f.add_subplot(1, 1, 1)\n",
    "ax.set_title('Salinity Concentration at time = {} days'.format(times[-1]))\n",
    "mm = flopy.plot.ModelCrossSection(ax=ax, model=m, line={'row': 0})\n",
    "cpatchcollection = mm.plot_array(conc, vmin=0.1, vmax=35, edgecolor='k')\n",
    "cb = plt.colorbar(cpatchcollection)"
   ]
  },
  {
   "cell_type": "code",
   "execution_count": null,
   "metadata": {},
   "outputs": [],
   "source": [
    "# Extract temperature\n",
    "fname = os.path.join(model_ws, 'MT3D002.UCN')\n",
    "ucnobj = flopy.utils.binaryfile.UcnFile(fname)\n",
    "times = ucnobj.get_times()\n",
    "conc = ucnobj.get_data(totim=times[-1])\n",
    "\n",
    "# Make plot of the simulated salinity\n",
    "f = plt.figure(figsize=(15, 5))\n",
    "ax = f.add_subplot(1, 1, 1)\n",
    "ax.set_title('Temperature at time = {} days'.format(times[-1]))\n",
    "mm = flopy.plot.ModelCrossSection(ax=ax, model=m, line={'row': 0})\n",
    "cpatchcollection = mm.plot_array(conc, vmin=5, vmax=25, edgecolor='k')\n",
    "cb = plt.colorbar(cpatchcollection)"
   ]
  },
  {
   "cell_type": "markdown",
   "metadata": {},
   "source": [
    "## Case 5 -- Assigning a constant temperature boundary to the ocean\n",
    "\n",
    "Heat conduction at the seawater boundary is included in the Case 5 simulation by changing the MT3DMS boundary type for the temperature species to ITYPE = -1. By using the constant-head boundary type (ITYPE = 1 in the SSM input file), only advective transport (no dispersive transport) is allowed across the boundary. With this condition, the solute concentration (or temperature) value at the constant-head boundary can change from the value specified in the SSM input file. Without a dispersive flux across the boundary, there is no heat conduction. By setting ITYPE = -1 for temperature, the assigned temperature value will remain constant at the boundary, and heat conduction to or from the boundary will occur.  "
   ]
  },
  {
   "cell_type": "code",
   "execution_count": null,
   "metadata": {},
   "outputs": [],
   "source": [
    "m.name = 'd5'\n",
    "\n",
    "# leave the well the same as it was\n",
    "itype = flopy.mt3d.Mt3dSsm.itype_dict() \n",
    "wel_conc = 0.0\n",
    "wel_temp = 25.0\n",
    "wel_itype = itype['WEL']\n",
    "wel_conc_sp = {0:[(k, 0, 0, wel_conc, wel_itype, wel_conc, wel_temp) \n",
    "                       for k in range(nlay)]}\n",
    "\n",
    "ocean_conc = 35.0\n",
    "ocean_temp = 5.0\n",
    "chd_conc_sp = [(k, 0, ncol - 1, ocean_conc, itype['CHD'], ocean_conc, -1)\n",
    "                  for k in range(nlay)]\n",
    "chd_conc_sp += [(k, 0, ncol - 1, ocean_conc, itype['CC'], -1, ocean_temp)\n",
    "                  for k in range(nlay)]\n",
    "\n",
    "ssm_data = wel_conc_sp\n",
    "ssm_data[0].extend(chd_conc_sp)"
   ]
  },
  {
   "cell_type": "code",
   "execution_count": null,
   "metadata": {},
   "outputs": [],
   "source": [
    "ssm = flopy.mt3d.Mt3dSsm(m, stress_period_data=ssm_data)"
   ]
  },
  {
   "cell_type": "code",
   "execution_count": null,
   "metadata": {},
   "outputs": [],
   "source": [
    "m.write_input()"
   ]
  },
  {
   "cell_type": "code",
   "execution_count": null,
   "metadata": {},
   "outputs": [],
   "source": [
    "fname = os.path.join(model_ws, 'MT3D001.UCN')\n",
    "try:\n",
    "    os.remove(fname)\n",
    "except:\n",
    "    pass\n",
    "m.run_model(silent=False)"
   ]
  },
  {
   "cell_type": "code",
   "execution_count": null,
   "metadata": {},
   "outputs": [],
   "source": [
    "# Extract salinity\n",
    "fname = os.path.join(model_ws, 'MT3D001.UCN')\n",
    "ucnobj = flopy.utils.binaryfile.UcnFile(fname)\n",
    "times = ucnobj.get_times()\n",
    "conc = ucnobj.get_data(totim=times[-1])\n",
    "\n",
    "# Make plot of the simulated salinity\n",
    "f = plt.figure(figsize=(15, 5))\n",
    "ax = f.add_subplot(1, 1, 1)\n",
    "ax.set_title('Salinity Concentration at time = {} days'.format(times[-1]))\n",
    "mm = flopy.plot.ModelCrossSection(ax=ax, model=m, line={'row': 0})\n",
    "cpatchcollection = mm.plot_array(conc, vmin=0.1, vmax=35, edgecolor='k')\n",
    "cb = plt.colorbar(cpatchcollection)"
   ]
  },
  {
   "cell_type": "code",
   "execution_count": null,
   "metadata": {},
   "outputs": [],
   "source": [
    "# Extract temperature\n",
    "fname = os.path.join(model_ws, 'MT3D002.UCN')\n",
    "ucnobj = flopy.utils.binaryfile.UcnFile(fname)\n",
    "times = ucnobj.get_times()\n",
    "conc = ucnobj.get_data(totim=times[-1])\n",
    "\n",
    "# Make plot of the simulated salinity\n",
    "f = plt.figure(figsize=(15, 5))\n",
    "ax = f.add_subplot(1, 1, 1)\n",
    "ax.set_title('Temperature at time = {} days'.format(times[-1]))\n",
    "mm = flopy.plot.ModelCrossSection(ax=ax, model=m, line={'row': 0})\n",
    "cpatchcollection = mm.plot_array(conc, vmin=5, vmax=25, edgecolor='k')\n",
    "cb = plt.colorbar(cpatchcollection)"
   ]
  },
  {
   "cell_type": "markdown",
   "metadata": {},
   "source": [
    "If you get the chance, take a look at the ssm file, which is called d5.ssm.  The first line indicates which flow packages are active. The “T” indicates that the well package is active. The second line specifies the maximum number of sources and sinks present in the simulation. The third line indicates the number of sources or sinks that are specified in the subsequent data record. The subsequent lines contain layer, row, column, a dummy value, ITYPE, and the concentration value for each species. A negative concentration value indicates that this boundary type does not apply for this species. The first set of lines specify the salinity and temperature values for the inflow along the left boundary, which is specifies using the well package. The second set of lines indicate the right boundary has a zero dispersive flux (ITYPE = 1) for salinity (species 1) and that any solute entering from the boundary will have a concentration of 35 kg/m3. The last set of lines show ITYPE = -1 to indicate that temperature will be held constant at 5 degrees C. \n",
    "\n",
    "You'll note that for this particular problem, the use of a constant temperature boundary does not have a substantial effect on the results as shown in the temperature plot above. Simulated salinities for Case 5 are the same as those for Case 4. Including the heat conduction at the boundary affects simulated temperatures slightly, but only near the vertical ocean boundary."
   ]
  },
  {
   "cell_type": "markdown",
   "metadata": {},
   "source": [
    "## Case 6 -- Viscosity effects\n",
    "\n",
    "For Case 6, the effects of fluid viscosity variation on salinity and temperature have been included in the simulation. Viscosity effects are included by activating the VSC Package in the name file."
   ]
  },
  {
   "cell_type": "code",
   "execution_count": null,
   "metadata": {},
   "outputs": [],
   "source": [
    "m.name = 'd6'"
   ]
  },
  {
   "cell_type": "code",
   "execution_count": null,
   "metadata": {},
   "outputs": [],
   "source": [
    "vsc = flopy.seawat.SeawatVsc(m, mt3dmuflg=-1, viscmin=0, viscmax=0, nsmueos=1,\n",
    "                             viscref=8.904e-4, mutempopt=1, mtmuspec=1,\n",
    "                             dmudc=1.923e-6, cmuref=0.0, mtmutempspec=2,\n",
    "                             amucoeff=[239.4e-7, 10.0, 248.37, 133.15])"
   ]
  },
  {
   "cell_type": "code",
   "execution_count": null,
   "metadata": {},
   "outputs": [],
   "source": [
    "m.write_input()"
   ]
  },
  {
   "cell_type": "code",
   "execution_count": null,
   "metadata": {},
   "outputs": [],
   "source": [
    "fname = os.path.join(model_ws, 'MT3D001.UCN')\n",
    "try:\n",
    "    os.remove(fname)\n",
    "except:\n",
    "    pass\n",
    "m.run_model(silent=False)"
   ]
  },
  {
   "cell_type": "code",
   "execution_count": null,
   "metadata": {},
   "outputs": [],
   "source": [
    "# Extract salinity\n",
    "fname = os.path.join(model_ws, 'MT3D001.UCN')\n",
    "ucnobj = flopy.utils.binaryfile.UcnFile(fname)\n",
    "times = ucnobj.get_times()\n",
    "conc = ucnobj.get_data(totim=times[-1])\n",
    "\n",
    "# Make plot of the simulated salinity\n",
    "f = plt.figure(figsize=(15, 5))\n",
    "ax = f.add_subplot(1, 1, 1)\n",
    "ax.set_title('Salinity Concentration at time = {} days'.format(times[-1]))\n",
    "mm = flopy.plot.ModelCrossSection(ax=ax, model=m, line={'row': 0})\n",
    "cpatchcollection = mm.plot_array(conc, vmin=0.1, vmax=35, edgecolor='k')\n",
    "cb = plt.colorbar(cpatchcollection)"
   ]
  },
  {
   "cell_type": "code",
   "execution_count": null,
   "metadata": {},
   "outputs": [],
   "source": [
    "# Extract temperature\n",
    "fname = os.path.join(model_ws, 'MT3D002.UCN')\n",
    "ucnobj = flopy.utils.binaryfile.UcnFile(fname)\n",
    "times = ucnobj.get_times()\n",
    "conc = ucnobj.get_data(totim=times[-1])\n",
    "\n",
    "# Make plot of the simulated salinity\n",
    "f = plt.figure(figsize=(15, 5))\n",
    "ax = f.add_subplot(1, 1, 1)\n",
    "ax.set_title('Temperature at time = {} days'.format(times[-1]))\n",
    "mm = flopy.plot.ModelCrossSection(ax=ax, model=m, line={'row': 0})\n",
    "cpatchcollection = mm.plot_array(conc, vmin=5, vmax=25, edgecolor='k')\n",
    "cb = plt.colorbar(cpatchcollection)"
   ]
  },
  {
   "cell_type": "markdown",
   "metadata": {},
   "source": [
    "If you get the chance, take a look at d6.vsc.  The first line is a comment. The second line indicates that viscosity is a function of one or more MT3DMS species. The third line contains the viscosity limiters, which are not active because of the zero value. The fourth line is the reference viscosity. The fifth line contains two important flags. The first indicates that one of the species has a linear effect on fluid density, and that information for the species will be read on the following line. The second flag contains information about the effects of temperature on fluid viscosity. A value of 1 indicates that fluid viscosity is calculated using equation 18 of the SEAWAT manual, and that additional information regarding the temperature/viscosity relation will be read later. The sixth line contains the MT3DMS species number that has a linear effect on fluid density, the slope of this relation, and the reference concentration this relation is based upon. The last line indicates that species 2 is the temperature species and provides constants used in equation 18.\n",
    "\n",
    "Results from the Case 6 simulation are shown above, and suggest that viscosity variations have a minimal effect on simulated salinities and temperatures for this particular problem. There are some minor differences between Cases 5 and 6, particularly at later times, but the overall results are similar."
   ]
  },
  {
   "cell_type": "code",
   "execution_count": null,
   "metadata": {},
   "outputs": [],
   "source": []
  }
 ],
 "metadata": {
  "kernelspec": {
   "display_name": "Python 3",
   "language": "python",
   "name": "python3"
  },
  "language_info": {
   "codemirror_mode": {
    "name": "ipython",
    "version": 3
   },
   "file_extension": ".py",
   "mimetype": "text/x-python",
   "name": "python",
   "nbconvert_exporter": "python",
   "pygments_lexer": "ipython3",
   "version": "3.6.5"
  }
 },
 "nbformat": 4,
 "nbformat_minor": 1
}
