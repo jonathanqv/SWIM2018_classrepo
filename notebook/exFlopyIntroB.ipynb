{
 "cells": [
  {
   "cell_type": "code",
   "execution_count": null,
   "metadata": {},
   "outputs": [],
   "source": [
    "%matplotlib inline\n",
    "import numpy as np\n",
    "import matplotlib.pyplot as plt\n",
    "import flopy\n",
    "import config"
   ]
  },
  {
   "cell_type": "code",
   "execution_count": null,
   "metadata": {},
   "outputs": [],
   "source": [
    "lx = 100.\n",
    "ly = 100.\n",
    "nlay = 1\n",
    "nrow = 20\n",
    "ncol = 20\n",
    "delr = lx / ncol\n",
    "delc = ly / nrow\n",
    "top = 0\n",
    "botm = -100\n",
    "nper = 10 * 24\n",
    "nstp = 1\n",
    "perlen = 10.\n",
    "steady = False\n",
    "ibound = np.ones((nlay, nrow, ncol), dtype=np.int)\n",
    "ibound[0, 0, 0] = -1\n",
    "ibound[0, nrow - 1, ncol - 1] = -1\n",
    "strt = np.zeros((nlay, nrow, ncol), dtype=np.float)\n",
    "strt[0, 0, 0] = 1."
   ]
  },
  {
   "cell_type": "code",
   "execution_count": null,
   "metadata": {},
   "outputs": [],
   "source": [
    "#tidal information\n",
    "def tide(a, b, c, d, t):\n",
    "    return a + b * np.sin(c + d * t)\n",
    "\n",
    "t = np.linspace(0, 10., 10*24 + 1)\n",
    "stage = tide(0., 1, 0., 4. * np.pi, t)\n",
    "plt.plot(t, stage, 'bo-')\n",
    "plt.xlim(0, 10)"
   ]
  },
  {
   "cell_type": "code",
   "execution_count": null,
   "metadata": {},
   "outputs": [],
   "source": [
    "chd_spd = {}\n",
    "oc_spd = {}\n",
    "for kper in range(nper):\n",
    "    chd_spd[kper] = [[0, 0, 0, stage[kper], stage[kper+1]]]\n",
    "    oc_spd[(kper, 0)] = ['save head', 'save budget']"
   ]
  },
  {
   "cell_type": "code",
   "execution_count": null,
   "metadata": {},
   "outputs": [],
   "source": [
    "model_ws = './work/exFlopyIntroB'\n",
    "name = 'fpintro'\n",
    "m = flopy.modflow.Modflow(modelname=name, model_ws=model_ws, \n",
    "                         exe_name=config.mfexe)\n",
    "dis = flopy.modflow.ModflowDis(m, nlay, nrow, ncol, nper,\n",
    "                              delr, delc, top=top, botm=botm,\n",
    "                              perlen=perlen, steady=steady)\n",
    "bas = flopy.modflow.ModflowBas(m, ibound=ibound, strt=strt)\n",
    "chd = flopy.modflow.ModflowChd(m, stress_period_data=chd_spd)\n",
    "lpf = flopy.modflow.ModflowLpf(m, ipakcb=52)\n",
    "pcg = flopy.modflow.ModflowPcg(m)\n",
    "oc = flopy.modflow.ModflowOc(m, stress_period_data=oc_spd)\n",
    "m.write_input()\n",
    "m.run_model()"
   ]
  },
  {
   "cell_type": "code",
   "execution_count": null,
   "metadata": {},
   "outputs": [],
   "source": [
    "fname = model_ws + '/' + name + '.hds'\n",
    "hdobj = flopy.utils.HeadFile(fname)\n",
    "head = hdobj.get_alldata()\n",
    "\n",
    "fname = model_ws + '/' + name + '.cbc'\n",
    "budobj = flopy.utils.CellBudgetFile(fname)\n",
    "frf = budobj.get_data(text='FLOW RIGHT FACE')\n",
    "flf = budobj.get_data(text='FLOW FRONT FACE')\n",
    "head.shape"
   ]
  },
  {
   "cell_type": "code",
   "execution_count": null,
   "metadata": {},
   "outputs": [],
   "source": [
    "kper = 0\n",
    "mm = flopy.plot.ModelMap(model=m)\n",
    "mm.plot_grid()\n",
    "mm.plot_ibound()\n",
    "mm.plot_array(head[kper], cmap='jet')\n",
    "mm.contour_array(head[0])\n",
    "mm.plot_discharge(frf[kper], frf[kper])\n",
    "plt.title('Stress Period {}'.format(kper+1))"
   ]
  },
  {
   "cell_type": "code",
   "execution_count": null,
   "metadata": {},
   "outputs": [],
   "source": [
    "icells = [(0, 0, 0), (0, int(nrow/2), int(ncol/2)), (0, nrow-1, ncol-1)]\n",
    "ts = hdobj.get_ts(icells)\n",
    "plt.plot(ts[:, 0], ts[:, 1:])"
   ]
  },
  {
   "cell_type": "code",
   "execution_count": null,
   "metadata": {},
   "outputs": [],
   "source": [
    "import time\n",
    "from IPython.display import clear_output, display\n",
    "animate = False\n",
    "if animate:\n",
    "    f = plt.figure(figsize=(10, 5))\n",
    "    ax = plt.subplot(1, 1, 1)\n",
    "    for kper in range(24):\n",
    "        mm = flopy.plot.ModelMap(model=m)\n",
    "        mm.plot_grid()\n",
    "        mm.plot_ibound()\n",
    "        mm.plot_array(head[kper], vmin=-1, vmax=1, cmap='jet')\n",
    "        mm.contour_array(head[0])\n",
    "        mm.plot_discharge(frf[kper], frf[kper])\n",
    "        plt.title('Stress Period {}'.format(kper+1))        \n",
    "        time.sleep(0.01)\n",
    "        clear_output(True)\n",
    "        display(f)\n",
    "        plt.gca().cla()\n",
    "    print('Done.');"
   ]
  },
  {
   "cell_type": "code",
   "execution_count": null,
   "metadata": {},
   "outputs": [],
   "source": []
  }
 ],
 "metadata": {
  "kernelspec": {
   "display_name": "Python 3",
   "language": "python",
   "name": "python3"
  },
  "language_info": {
   "codemirror_mode": {
    "name": "ipython",
    "version": 3
   },
   "file_extension": ".py",
   "mimetype": "text/x-python",
   "name": "python",
   "nbconvert_exporter": "python",
   "pygments_lexer": "ipython3",
   "version": "3.6.5"
  }
 },
 "nbformat": 4,
 "nbformat_minor": 2
}
