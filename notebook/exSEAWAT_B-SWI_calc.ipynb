{
 "cells": [
  {
   "cell_type": "markdown",
   "metadata": {},
   "source": [
    "![alt text](./img/header.png)\n",
    "\n",
    "# Saltwater Intrusion Exercise\n",
    "\n",
    "A growing coastal city is interested in developing a wellfield in order to provide potable drinking water to its residents.  You have been contracted by the city to perform a numerical analysis to determine the effects of groundwater withdrawals on the position of the saltwater interface.  The city is particularly interested in knowing if the planned withdrawal rate will result in pumped water that exceeds the drinking water standard for chloride, which is 250 mg/L.  In addition, you have been asked by the city to delineate a wellfield protection zone by determining the approximate recharge area for the wellfield.  The city is also interested in knowing what would happen if a spill was to occur at the airport.  At what concentrations would a conservative contaminant plume reach the proposed wellfield?\n",
    "\n",
    "![alt text](./img/exB_fig1.png)\n",
    "\n",
    "The study area consists of a 10 by 10 km area of a coastal plain aquifer system centered on the proposed wellfield (Figure 1).  The hydrogeology of the area consists of a shallow and deep aquifer, and both aquifers intersect the sea floor (Figure 2).  The two aquifers are separated by a discontinuous confining layer that thickens to the east.  The confining layer is present in the eastern part of the study area, but is absent in the western part.  A low permeability unit, which slopes downward to the east, underlies the deep aquifer and can be considered a no flow boundary.  Extensive field investigations have been performed, and the aquifer properties for the different units are summarized in the table below.  Annual average recharge was determined to be 25.4 cm/yr (10 in/yr).\n",
    "\n",
    "![alt text](./img/exB_fig2.png)\n",
    "\n",
    "Unfortunately, due to limitations in available property, the city has only one option for wellfield location, which is shown on the map in Figure 1.  The city is hoping to capture at least 25% of the recharge for the area, but there is an obvious concern that excessive pumping from the deep aquifer could cause the saltwater interface to move inland and contaminate the wellfield.\n",
    "\n",
    "  Unit            | $K_h$ |  $K_v$      |  $S$        | $S_y$ | $n$   | $\\alpha_l$ | $\\alpha_v$ \n",
    "  --------------- | ----- | ----------- | ----------- | ----- | ----- | ---------- | ---------- \n",
    "  Shallow aquifer | 100   | 1           | $1x10^{-5}$ | 0.2   | 0.2   | 10         | 1          \n",
    "  Confining unit  | 0.001 | 0.001       | $1x10^{-5}$ | 0.2   | 0.2   | 10         | 1          \n",
    "  Deep aquifer    | 2000  | 200         | $1x10^{-5}$ | 0.2   | 0.2   | 10         | 1          \n",
    "\n"
   ]
  },
  {
   "cell_type": "code",
   "execution_count": null,
   "metadata": {
    "collapsed": false
   },
   "outputs": [],
   "source": [
    "# Setup the python environment\n",
    "%matplotlib inline\n",
    "import sys\n",
    "import os\n",
    "import numpy as np\n",
    "import matplotlib.pyplot as plt\n",
    "import flopy\n",
    "import config"
   ]
  },
  {
   "cell_type": "markdown",
   "metadata": {},
   "source": [
    "## Exercise C -- Design, run, and calibrate a 2D cross-section model to obtain the steady-state pre-withdrawal distribution of head and salinity\n",
    "\n",
    "Based on the geometry of the system, the pre-withdrawal conditions can be obtained by running a 2D cross-section model.  The resulting heads and salinities can then be used as initial conditions for the 3D model to evaluate interface movement in response to pumping.  Because 3D saltwater intrusion models can take a long time, across-sectional model is developed first using one row, 100 columns, and 25 model layers. The model has already been constructed for you.\n",
    "\n",
    "This exercise was designed such that a 2D model could be used to represent pre-withdrawal conditions.  If the hydrogeology were to vary in the north-south direction, or if an irregular boundary were to exist, the problem of obtaining equilibrium conditions would be more difficult."
   ]
  },
  {
   "cell_type": "markdown",
   "metadata": {},
   "source": [
    "### Part C1 -- Determine length of simulation period required to reach equilibrium"
   ]
  },
  {
   "cell_type": "code",
   "execution_count": null,
   "metadata": {
    "collapsed": true
   },
   "outputs": [],
   "source": [
    "# Data path\n",
    "datapth = os.path.join('data', 'exSEAWAT_B')\n",
    "\n",
    "# Grid information\n",
    "nlay = 23\n",
    "nrow = 1\n",
    "ncol = 100\n",
    "delr = 100.\n",
    "delc = 100.\n",
    "top = 2.5\n",
    "botm = np.linspace(-2.5, -112.5, nlay)\n",
    "\n",
    "# Temporal discretization\n",
    "nper = 1\n",
    "nstp = 10000\n",
    "perlen = 100000.\n",
    "\n",
    "# Ibound\n",
    "fname = os.path.join(datapth, 'ibound.txt')\n",
    "ibound = np.loadtxt(fname).reshape((nlay, nrow, ncol))\n",
    "\n",
    "# Hydraulic properties\n",
    "fname = os.path.join(datapth, 'hk.txt')\n",
    "hk = np.loadtxt(fname).reshape((nlay, nrow, ncol))\n",
    "fname = os.path.join(datapth, 'vk.txt')\n",
    "vk = np.loadtxt(fname).reshape((nlay, nrow, ncol))\n",
    "ss = 1.e-5\n",
    "sy = 0.2"
   ]
  },
  {
   "cell_type": "code",
   "execution_count": null,
   "metadata": {
    "collapsed": false
   },
   "outputs": [],
   "source": [
    "ksel = [100., 0.001, 2000.]\n",
    "kvsel = [1., 0.001, 200.]\n",
    "hkc = hk.copy()\n",
    "for jdx, kk in enumerate(ksel):\n",
    "    idx = np.abs(hkc - kk) < 1e-6\n",
    "    hkc[idx] = jdx + 1\n",
    "for k in range(nlay - 1):\n",
    "    for i in range(ncol):\n",
    "        if hkc[k, 0, i] == 1 and hkc[k+1, 0, i] == 3:\n",
    "            hkc[k+1, 0, i] = 4\n",
    "idx = (ibound[:, 0, :80] == 0) & (hkc[:, 0, :80] == 3)\n",
    "hkc[:, 0, :80][idx] = 0\n",
    "botms = np.zeros((3, 1, hkc.shape[2]))\n",
    "\n",
    "# k and kv for swi model\n",
    "kswi = np.zeros((3, 1, hkc.shape[2]))\n",
    "kvswi = np.zeros((3, 1, hkc.shape[2]))\n",
    "\n",
    "kswi[0, 0, :] = ksel[0]\n",
    "kswi[2, 0, :] = ksel[2]\n",
    "kvswi[0, 0, :] = kvsel[0]\n",
    "kvswi[2, 0, :] = kvsel[2]\n",
    "for i in range(ncol):\n",
    "    for k in range(nlay - 1):\n",
    "        if hkc[k, 0, i] == 1 and (hkc[k+1, 0, i] == 4 or hkc[k+1, 0, i] == 2):\n",
    "            botms[0, 0, i] = botm[k]\n",
    "        if (hkc[k, 0, i] == 4 or hkc[k, 0, i] == 2) and hkc[k+1, 0, i] == 3:\n",
    "            botms[1, 0, i] = botm[k]\n",
    "            if hkc[k, 0, i] == 4:\n",
    "                kswi[1, 0, i] = ksel[2]\n",
    "                kvswi[1, 0, i] = kvsel[2]\n",
    "            else:\n",
    "                kswi[1, 0, i] = ksel[1]\n",
    "                kvswi[1, 0, i] = kvsel[1]\n",
    "        if hkc[k, 0, i] == 3 and hkc[k+1, 0, i] == 0:\n",
    "            botms[2, 0, i] = botm[k]\n",
    "        if hkc[k, 0, i] == 3 and hkc[k+1, 0, i] == 3:\n",
    "            botms[2, 0, i] = botm[k+1]\n",
    "#print(botms[0, 0, :])\n",
    "#print(botms[1, 0, :])\n",
    "#print(botms[2, 0, :])\n",
    "#print(kswi[:, 0, :])\n",
    "t = np.ones(ncol) * delr\n",
    "xc = np.cumsum(t) - delr / 2.\n",
    "#print(xc)"
   ]
  },
  {
   "cell_type": "code",
   "execution_count": null,
   "metadata": {
    "collapsed": false
   },
   "outputs": [],
   "source": [
    "f = plt.figure(figsize=(15, 5))\n",
    "ax = f.add_subplot(1, 1, 1)\n",
    "q = ax.imshow(hkc[:, 0, :], interpolation='none', extent=[0, 10000, botm[-1], 2.5], aspect=20)\n",
    "plt.colorbar(q, shrink=0.5)\n",
    "plt.plot(xc, botms[0, 0, :], color='cyan', drawstyle='steps-mid', lw=2)\n",
    "plt.plot(xc, botms[1, 0, :], color='cyan', drawstyle='steps-mid', lw=2)\n",
    "plt.plot(xc, botms[2, 0, :], color='cyan', drawstyle='steps-mid', lw=2);"
   ]
  },
  {
   "cell_type": "code",
   "execution_count": null,
   "metadata": {
    "collapsed": false
   },
   "outputs": [],
   "source": [
    "topswi = np.ones(ncol) * 2.5\n",
    "ibswi = np.ones((3, 1, hkc.shape[2]), dtype=np.int)\n",
    "for i in range(ncol):\n",
    "    for k in range(nlay - 1):\n",
    "        if ibound[k, 0, i] == 0 and ibound[k+1, 0, i] < 0:\n",
    "            topswi[i] = botm[k]\n",
    "zmin = 0.1\n",
    "for i in range(ncol):\n",
    "    if botms[0, 0, i] >= topswi[i]:\n",
    "        botms[0, 0, i] = topswi[i] - zmin\n",
    "for i in range(ncol):\n",
    "    if botms[1, 0, i] >= botms[0, 0, i]:\n",
    "        botms[1, 0, i] = botms[0, 0, i] - zmin \n",
    "\n",
    "dz = np.ones((3, 1, hkc.shape[2]))\n",
    "for k in range(3):\n",
    "    for i in range(ncol):\n",
    "        if k == 0:\n",
    "            z1 = topswi[i]\n",
    "        else:\n",
    "            z1 = botms[k-1, 0, i]\n",
    "        dz[k, 0, i] = z1 - botms[k, 0, i]\n",
    "        if abs(dz[k, 0, i]- zmin) < 1.0e-6:\n",
    "            ibswi[k, 0, i] = 0\n",
    "#print(dz[:, 0, :])\n",
    "\n",
    "for i in range(ncol):\n",
    "    if topswi[i] < 2.5 and ibswi[0, 0, i] > 0:\n",
    "        ibswi[0, 0, i] = 2\n",
    "for i in range(ncol):\n",
    "    if botms[0, 0, i] < -47.5 and ibswi[1, 0, i] > 0:\n",
    "        ibswi[1, 0, i] = 2\n",
    "for i in range(ncol):\n",
    "    if botms[1, 0, i] < -72.5 and ibswi[2, 0, i] > 0:\n",
    "        ibswi[2, 0, i] = 2\n",
    "        \n",
    "#print(ibswi[:, 0, :])"
   ]
  },
  {
   "cell_type": "code",
   "execution_count": null,
   "metadata": {
    "collapsed": false
   },
   "outputs": [],
   "source": [
    "f = plt.figure(figsize=(15, 5))\n",
    "ax = f.add_subplot(1, 1, 1)\n",
    "ax.fill_between(xc, y1=topswi, y2=botms[0, 0, :], color='cyan', step='mid')\n",
    "ax.fill_between(xc, y1=botms[0, 0, :], y2=botms[1, 0, :], color='brown', step='mid')\n",
    "ax.fill_between(xc, y1=botms[1, 0, :], y2=botms[2, 0, :], color='blue', step='mid');"
   ]
  },
  {
   "cell_type": "code",
   "execution_count": null,
   "metadata": {
    "collapsed": false
   },
   "outputs": [],
   "source": [
    "# save data\n",
    "datapth = os.path.join('data', 'exSEAWAT_B-SWI')\n",
    "# top\n",
    "fn = os.path.join(datapth, 'top.txt')\n",
    "np.savetxt(fn, topswi.reshape(1, ncol))\n",
    "# botms\n",
    "fn = os.path.join(datapth, 'botm.txt')\n",
    "np.savetxt(fn, botms[:, 0, :])\n",
    "# ibswi\n",
    "fn = os.path.join(datapth, 'ibound.txt')\n",
    "np.savetxt(fn, ibswi[:, 0, :])\n",
    "# hk\n",
    "fn = os.path.join(datapth, 'hk.txt')\n",
    "np.savetxt(fn, kswi[:, 0, :])\n",
    "# vk\n",
    "fn = os.path.join(datapth, 'vk.txt')\n",
    "np.savetxt(fn, kvswi[:, 0, :])\n"
   ]
  },
  {
   "cell_type": "code",
   "execution_count": null,
   "metadata": {
    "collapsed": false
   },
   "outputs": [],
   "source": [
    "# Recharge\n",
    "rech = 25.4 / 100. / 365.  # convert cm/yr to m/day\n",
    "\n",
    "# Build ghbs\n",
    "nghb = 0\n",
    "for k in range(3):\n",
    "    for j in range(ncol):\n",
    "        if ibswi[k, 0, j] == 2:\n",
    "            nghb += 1\n",
    "ghb_data = flopy.modflow.ModflowGhb.get_empty(ncells=nghb)\n",
    "idx = 0\n",
    "for k in range(3):\n",
    "    for j in range(ncol):\n",
    "        if ibswi[k, 0, j] == 2:\n",
    "            if k == 0:\n",
    "                z1 = min(0., topswi[j])\n",
    "            else:\n",
    "                z1 = botms[k-1, 0, j]\n",
    "            hfw = 0.025 * (-z1)\n",
    "            d = (z1 - botms[k, 0, j])\n",
    "            cond = kswi[k, 0, j] * d * delr / (0.5 * delc)\n",
    "            ghb_data['k'][idx] = k\n",
    "            ghb_data['i'][idx] = 0\n",
    "            ghb_data['j'][idx] = j\n",
    "            ghb_data['bhead'][idx] = hfw\n",
    "            ghb_data['cond'][idx] = cond\n",
    "            idx += 1\n",
    "#print(ghb_data.dtype)\n",
    "print(ghb_data)"
   ]
  },
  {
   "cell_type": "code",
   "execution_count": null,
   "metadata": {
    "collapsed": false
   },
   "outputs": [],
   "source": [
    "# Swi\n",
    "isource = np.zeros((3, 1, hkc.shape[2]), dtype=np.int)\n",
    "for k in range(3):\n",
    "    for j in range(ncol):\n",
    "        if ibswi[k, 0, j] == 2:\n",
    "            isource[k, 0, j] = -2\n",
    "\n",
    "# assume freshwater to coastline and saltwater beyond\n",
    "ipos = 0\n",
    "for j in range(ncol):\n",
    "    if topswi[j] < 2.5:\n",
    "        ipos = j\n",
    "        break\n",
    "zeta = np.ones((3, 1, ncol)) * -250.\n",
    "zeta[:, :, ipos:] = 2.5"
   ]
  },
  {
   "cell_type": "code",
   "execution_count": null,
   "metadata": {
    "collapsed": false
   },
   "outputs": [],
   "source": [
    "# Build the flopy SEAWAT model\n",
    "model_ws = os.path.join('work', 'exSEAWAT_B-SWI')\n",
    "if not os.path.isdir(model_ws):\n",
    "    os.mkdir(model_ws)\n",
    "    \n",
    "modelname = 'b1-swi'\n",
    "m = flopy.modflow.Modflow(modelname, model_ws=model_ws, exe_name=config.mfexe)\n",
    "dis = flopy.modflow.ModflowDis(m, nlay=3, nrow=nrow, ncol=ncol, delr=delr, delc=delc, \n",
    "                               top=topswi.reshape(1, ncol), botm=botms, perlen=perlen, nstp=nstp)\n",
    "bas = flopy.modflow.ModflowBas(m, ibswi, strt=0.)\n",
    "lpf = flopy.modflow.ModflowLpf(m, laytyp=1, hk=kswi, vka=kvswi, ss=ss, sy=sy)\n",
    "rch = flopy.modflow.ModflowRch(m, rech=rech)\n",
    "ghb = flopy.modflow.ModflowGhb(m, stress_period_data=ghb_data)\n",
    "swi = flopy.modflow.ModflowSwi2(m, ssz=0.2, zeta=[zeta], isource=isource, nsrf=1)\n",
    "oc = flopy.modflow.ModflowOc(m, stress_period_data={(0, nstp-1):['save head']})\n",
    "pcg = flopy.modflow.ModflowPcg(m, hclose=1.e-3, rclose=1e4)"
   ]
  },
  {
   "cell_type": "code",
   "execution_count": null,
   "metadata": {
    "collapsed": false
   },
   "outputs": [],
   "source": [
    "# Make plot of the grid\n",
    "f = plt.figure(figsize=(15, 5))\n",
    "ax = f.add_subplot(1, 1, 1)\n",
    "mm = flopy.plot.ModelCrossSection(ax=ax, model=m, line={'row':0})\n",
    "linecollection = mm.plot_grid()\n",
    "patchcollection = mm.plot_ibound()"
   ]
  },
  {
   "cell_type": "code",
   "execution_count": null,
   "metadata": {
    "collapsed": false
   },
   "outputs": [],
   "source": [
    "# Make color flood plot of hydraulic conductivity\n",
    "f = plt.figure(figsize=(15, 5))\n",
    "ax = f.add_subplot(1, 1, 1)\n",
    "mm = flopy.plot.ModelCrossSection(ax=ax, model=m, line={'row':0})\n",
    "hkpatchcollection = mm.plot_array(np.log(m.lpf.hk.array), cmap='viridis')\n",
    "linecollection = mm.plot_grid()\n",
    "patchcollection = mm.plot_ibound()\n",
    "cb = plt.colorbar(hkpatchcollection)"
   ]
  },
  {
   "cell_type": "code",
   "execution_count": null,
   "metadata": {
    "collapsed": true
   },
   "outputs": [],
   "source": [
    "# write the input files\n",
    "m.write_input()"
   ]
  },
  {
   "cell_type": "code",
   "execution_count": null,
   "metadata": {
    "collapsed": false
   },
   "outputs": [],
   "source": [
    "# run the model\n",
    "success, buff = m.run_model(silent=True)\n",
    "print(success)"
   ]
  },
  {
   "cell_type": "code",
   "execution_count": null,
   "metadata": {
    "collapsed": false
   },
   "outputs": [],
   "source": [
    "# Extract salinity\n",
    "fname = os.path.join(model_ws, 'b1-swi.zta')\n",
    "zobj = flopy.utils.binaryfile.CellBudgetFile(fname)\n",
    "print(zobj.list_records())\n",
    "kk = zobj.get_kstpkper()\n",
    "zeta = zobj.get_data(text='ZETASRF  1', kstpkper=kk[-1])[0]\n",
    "#print(zeta)"
   ]
  },
  {
   "cell_type": "code",
   "execution_count": null,
   "metadata": {
    "collapsed": false
   },
   "outputs": [],
   "source": [
    "# Make plot of the simulated salinity\n",
    "f = plt.figure(figsize=(15, 5))\n",
    "ax = f.add_subplot(1, 1, 1)\n",
    "mm = flopy.plot.ModelCrossSection(ax=ax, model=m, line={'row':0})\n",
    "mm.plot_fill_between(zeta);\n",
    "#cpatchcollection = mm.plot_array(conc, vmin=0.1, vmax=35, edgecolor='k')\n",
    "linecollection = mm.plot_grid()\n",
    "#patchcollection = mm.plot_ibound()\n",
    "#cb = plt.colorbar(cpatchcollection)"
   ]
  },
  {
   "cell_type": "code",
   "execution_count": null,
   "metadata": {
    "collapsed": true
   },
   "outputs": [],
   "source": []
  }
 ],
 "metadata": {
  "kernelspec": {
   "display_name": "Python 3",
   "language": "python",
   "name": "python3"
  },
  "language_info": {
   "codemirror_mode": {
    "name": "ipython",
    "version": 3
   },
   "file_extension": ".py",
   "mimetype": "text/x-python",
   "name": "python",
   "nbconvert_exporter": "python",
   "pygments_lexer": "ipython3",
   "version": "3.5.1"
  }
 },
 "nbformat": 4,
 "nbformat_minor": 0
}
