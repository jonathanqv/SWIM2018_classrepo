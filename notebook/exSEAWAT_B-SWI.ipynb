{
 "cells": [
  {
   "cell_type": "markdown",
   "metadata": {},
   "source": [
    "![alt text](./img/header.png)\n",
    "\n",
    "# Saltwater Intrusion Exercise - Now using SWI\n"
   ]
  },
  {
   "cell_type": "code",
   "execution_count": null,
   "metadata": {},
   "outputs": [],
   "source": [
    "# Setup the python environment\n",
    "%matplotlib inline\n",
    "import sys\n",
    "import os\n",
    "import numpy as np\n",
    "import matplotlib.pyplot as plt\n",
    "import flopy\n",
    "import config"
   ]
  },
  {
   "cell_type": "markdown",
   "metadata": {},
   "source": [
    "## Exercise B-SWI $-$ Create a equivalent model to exSEAWAT_B using the SWI2 Package\n",
    "\n",
    "Based on the geometry of the system, the pre-withdrawal conditions can be obtained by running a 2D cross-section model.  The resulting heads and salinities can then be used as initial conditions for the 3D model to evaluate interface movement in response to pumping.  Because 3D saltwater intrusion models can take a long time, across-sectional model is developed first using one row, 100 columns, and 3 model layers. The model has already been constructed for you.\n",
    "\n",
    "This exercise was designed such that a 2D model could be used to represent pre-withdrawal conditions.  If the hydrogeology were to vary in the north-south direction, or if an irregular boundary were to exist, the problem of obtaining equilibrium conditions would be more difficult."
   ]
  },
  {
   "cell_type": "code",
   "execution_count": null,
   "metadata": {},
   "outputs": [],
   "source": [
    "# Data path\n",
    "datapth = os.path.join('data', 'exSEAWAT_B-SWI')\n",
    "\n",
    "# Grid information\n",
    "nlay = 3\n",
    "nrow = 1\n",
    "ncol = 100\n",
    "delr = 100.\n",
    "delc = 100.\n",
    "\n",
    "# Temporal discretization\n",
    "nper = 1\n",
    "nstp = 10000\n",
    "perlen = 1000000.\n",
    "\n",
    "# Top\n",
    "fname = os.path.join(datapth, 'top.txt')\n",
    "top = np.loadtxt(fname).reshape((nrow, ncol))\n",
    "\n",
    "# Bottom\n",
    "fname = os.path.join(datapth, 'botm.txt')\n",
    "botm = np.loadtxt(fname).reshape((nlay, nrow, ncol))\n",
    "\n",
    "# Ibound\n",
    "fname = os.path.join(datapth, 'ibound.txt')\n",
    "ibound = np.loadtxt(fname).reshape((nlay, nrow, ncol))\n",
    "\n",
    "# Hydraulic properties\n",
    "fname = os.path.join(datapth, 'hk.txt')\n",
    "hk = np.loadtxt(fname).reshape((nlay, nrow, ncol))\n",
    "fname = os.path.join(datapth, 'vk.txt')\n",
    "vk = np.loadtxt(fname).reshape((nlay, nrow, ncol))\n",
    "ss = 1.e-5\n",
    "sy = 0.2"
   ]
  },
  {
   "cell_type": "code",
   "execution_count": null,
   "metadata": {},
   "outputs": [],
   "source": [
    "# Recharge\n",
    "rech = 25.4 / 100. / 365.  # convert cm/yr to m/day\n",
    "\n",
    "# Build ghbs\n",
    "# Determine the number of ghbs\n",
    "nghb = 0\n",
    "for k in range(nlay):\n",
    "    for j in range(ncol):\n",
    "        if ibound[k, 0, j] == 2:\n",
    "            nghb += 1\n",
    "# Empty ghb recarray\n",
    "ghb_data = flopy.modflow.ModflowGhb.get_empty(ncells=nghb)\n",
    "# Fill the recarray\n",
    "idx = 0\n",
    "for k in range(nlay):\n",
    "    for j in range(ncol):\n",
    "        if ibound[k, 0, j] == 2:\n",
    "            if k == 0:\n",
    "                z1 = min(0., top[0, j])\n",
    "            else:\n",
    "                z1 = botm[k-1, 0, j]\n",
    "            hfw = 0.025 * (-z1)\n",
    "            d = (z1 - botm[k, 0, j])\n",
    "            cond = hk[k, 0, j] * d * delr / (0.5 * delc)\n",
    "            ghb_data['k'][idx] = k\n",
    "            ghb_data['i'][idx] = 0\n",
    "            ghb_data['j'][idx] = j\n",
    "            ghb_data['bhead'][idx] = hfw\n",
    "            ghb_data['cond'][idx] = cond\n",
    "            idx += 1\n",
    "#print(ghb_data.dtype)\n",
    "#print(ghb_data)"
   ]
  },
  {
   "cell_type": "code",
   "execution_count": null,
   "metadata": {},
   "outputs": [],
   "source": [
    "# Swi input data\n",
    "isource = np.zeros((nlay, nrow, ncol), dtype=np.int)\n",
    "for k in range(nlay):\n",
    "    for j in range(ncol):\n",
    "        if ibound[k, 0, j] == 2:\n",
    "            isource[k, 0, j] = -2\n",
    "\n",
    "# assume freshwater to coastline and saltwater beyond\n",
    "ipos = 0\n",
    "for j in range(ncol):\n",
    "    if top[0, j] < 2.5:\n",
    "        ipos = j\n",
    "        break\n",
    "zeta = np.ones((nlay, nrow, ncol)) * -250.\n",
    "zeta[:, :, ipos:] = 2.5"
   ]
  },
  {
   "cell_type": "code",
   "execution_count": null,
   "metadata": {},
   "outputs": [],
   "source": [
    "# Build the flopy SEAWAT model\n",
    "model_ws = os.path.join('work', 'exSEAWAT_B-SWI')\n",
    "modelname = 'b1-swi'\n",
    "m = flopy.modflow.Modflow(modelname, model_ws=model_ws, exe_name=config.mfexe)\n",
    "dis = flopy.modflow.ModflowDis(m, nlay=3, nrow=nrow, ncol=ncol, delr=delr, delc=delc, \n",
    "                               top=top, botm=botm, perlen=perlen, nstp=nstp)\n",
    "bas = flopy.modflow.ModflowBas(m, ibound, strt=0.)\n",
    "lpf = flopy.modflow.ModflowLpf(m, laytyp=1, hk=hk, vka=vk, ss=ss, sy=sy)\n",
    "rch = flopy.modflow.ModflowRch(m, rech=rech)\n",
    "ghb = flopy.modflow.ModflowGhb(m, stress_period_data=ghb_data)\n",
    "swi = flopy.modflow.ModflowSwi2(m, ssz=0.2, zeta=[zeta], isource=isource, nsrf=1, nobs=3, \n",
    "                                obslrc=[(0, 0, ncol-28), (0, 0, ncol-27), \n",
    "                                        (0, 0, ncol-26), (2, 0, ncol-12),\n",
    "                                        (2, 0, ncol-10), (2, 0, ncol-8)], \n",
    "                                obsnam=['L1C73', 'L1C74', \n",
    "                                        'L1C75', 'L3C89', \n",
    "                                        'L3C91', 'L3C93'], \n",
    "                                iswiobs=1053, iswizt=55)\n",
    "oc = flopy.modflow.ModflowOc(m, save_every=10)\n",
    "pcg = flopy.modflow.ModflowPcg(m, hclose=1.e-3, rclose=1e-1)"
   ]
  },
  {
   "cell_type": "code",
   "execution_count": null,
   "metadata": {},
   "outputs": [],
   "source": [
    "# Make plot of the grid\n",
    "f = plt.figure(figsize=(15, 5))\n",
    "ax = f.add_subplot(1, 1, 1)\n",
    "mm = flopy.plot.ModelCrossSection(ax=ax, model=m, line={'row':0})\n",
    "linecollection = mm.plot_grid()\n",
    "patchcollection = mm.plot_ibound()"
   ]
  },
  {
   "cell_type": "code",
   "execution_count": null,
   "metadata": {},
   "outputs": [],
   "source": [
    "# Make color flood plot of hydraulic conductivity\n",
    "f = plt.figure(figsize=(15, 5))\n",
    "ax = f.add_subplot(1, 1, 1)\n",
    "mm = flopy.plot.ModelCrossSection(ax=ax, model=m, line={'row':0})\n",
    "hkpatchcollection = mm.plot_array(np.log(m.lpf.hk.array), cmap='viridis')\n",
    "linecollection = mm.plot_grid()\n",
    "patchcollection = mm.plot_ibound()\n",
    "cb = plt.colorbar(hkpatchcollection)"
   ]
  },
  {
   "cell_type": "code",
   "execution_count": null,
   "metadata": {},
   "outputs": [],
   "source": [
    "# write the input files\n",
    "m.write_input()"
   ]
  },
  {
   "cell_type": "code",
   "execution_count": null,
   "metadata": {},
   "outputs": [],
   "source": [
    "# run the model\n",
    "success, buff = m.run_model(silent=True)\n",
    "print(success)"
   ]
  },
  {
   "cell_type": "code",
   "execution_count": null,
   "metadata": {},
   "outputs": [],
   "source": [
    "# Extract zeta surface\n",
    "fname = os.path.join(model_ws, 'b1-swi.zta')\n",
    "zobj = flopy.utils.binaryfile.CellBudgetFile(fname)\n",
    "#print(zobj.list_records())\n",
    "kk = zobj.get_kstpkper()\n",
    "zeta = zobj.get_data(text='ZETASRF  1', kstpkper=kk[-1])[0]"
   ]
  },
  {
   "cell_type": "code",
   "execution_count": null,
   "metadata": {},
   "outputs": [],
   "source": [
    "# import seawat model \n",
    "swt_import = False\n",
    "try:\n",
    "    swt_ws = os.path.join('work', 'exSEAWAT_B')\n",
    "    swt_name = 'b1'\n",
    "    ms = flopy.seawat.Seawat.load(swt_name+'.nam', model_ws=swt_ws)\n",
    "    # Extract salinity\n",
    "    fname = os.path.join(swt_ws, 'MT3D001.UCN')\n",
    "    ucnobj = flopy.utils.binaryfile.UcnFile(fname)\n",
    "    times = ucnobj.get_times()\n",
    "    conc = ucnobj.get_data(totim=times[-1])\n",
    "    conc[np.where(ms.bas6.ibound.array != 1)] = np.nan    \n",
    "    swt_import = True\n",
    "except:\n",
    "    swt_ws = False\n",
    "    print('Houston we have a problem')\n",
    "    pass"
   ]
  },
  {
   "cell_type": "markdown",
   "metadata": {},
   "source": [
    "### Plot the zeta surface\n",
    "\n",
    "Plot the zeta surface at the end of the simulation and compare it to the SEAWAT results for the same problem."
   ]
  },
  {
   "cell_type": "code",
   "execution_count": null,
   "metadata": {},
   "outputs": [],
   "source": [
    "# Make plot of the simulated zeta surface and compare to the SEAWAT results\n",
    "f = plt.figure(figsize=(15, 10))\n",
    "ax = f.add_subplot(2, 1, 1)\n",
    "mm = flopy.plot.ModelCrossSection(ax=ax, model=m, line={'row':0})\n",
    "mm.plot_fill_between(zeta);\n",
    "linecollection = mm.plot_grid()\n",
    "ax.set_title('SWI Package')\n",
    "if swt_ws:\n",
    "    ax2 = f.add_subplot(2, 1, 2)\n",
    "    mm2 = flopy.plot.ModelCrossSection(ax=ax2, model=ms, line={'row':0})\n",
    "    cpatchcollection = mm2.plot_array(conc, vmin=0.1, vmax=35, edgecolor='k')\n",
    "    mm2.contour_array(conc, levels=[35./2.], colors='red', linewidths=4.)\n",
    "    ax2.set_title('SEAWAT')"
   ]
  },
  {
   "cell_type": "markdown",
   "metadata": {},
   "source": [
    "### B1-SWI Questions\n",
    " \n",
    "1. Do the differences between SWI and SEAWAT make sense given the assumptions used in SWI?"
   ]
  },
  {
   "cell_type": "code",
   "execution_count": null,
   "metadata": {},
   "outputs": [],
   "source": []
  },
  {
   "cell_type": "markdown",
   "metadata": {
    "collapsed": true
   },
   "source": [
    "### Determine if the zeta surface is stable\n",
    "\n",
    "Zeta observations can be used to determine if the the zeta surface is stable."
   ]
  },
  {
   "cell_type": "code",
   "execution_count": null,
   "metadata": {},
   "outputs": [],
   "source": [
    "fn = os.path.join(model_ws, 'b1-swi.zobs.out')\n",
    "zobs = np.genfromtxt(fn, names=True)\n",
    "print(zobs.dtype)"
   ]
  },
  {
   "cell_type": "code",
   "execution_count": null,
   "metadata": {},
   "outputs": [],
   "source": [
    "fig_size=(15, len(zobs.dtype.names[1:])*2.5)\n",
    "fig,ax = plt.subplots(len(zobs.dtype.names[1:]),1, sharex=True, figsize=fig_size)\n",
    "for idx, cnam in enumerate(zobs.dtype.names[1:]):\n",
    "    ax[idx].plot(zobs['TOTIM'], zobs[cnam], label=cnam)\n",
    "    ax[idx].legend();"
   ]
  },
  {
   "cell_type": "code",
   "execution_count": null,
   "metadata": {},
   "outputs": [],
   "source": []
  },
  {
   "cell_type": "markdown",
   "metadata": {},
   "source": [
    "### Animate results"
   ]
  },
  {
   "cell_type": "code",
   "execution_count": null,
   "metadata": {},
   "outputs": [],
   "source": [
    "import time\n",
    "from IPython.display import clear_output, display\n",
    "animate = False # set to True to run the animation\n",
    "if animate:\n",
    "    f = plt.figure(figsize=(15, 5))\n",
    "    ax = plt.subplot(1, 1, 1)\n",
    "    for i, t in enumerate(kk):\n",
    "        zeta = zobj.get_data(text='ZETASRF  1', kstpkper=t)[0]\n",
    "        ax.set_title('kstp {:05d}/{:05d}'.format(t[0]+1, kk[-1][0]+1))\n",
    "        xs = flopy.plot.ModelCrossSection(ax=ax, model=m, line={'row': 0})\n",
    "        xs.plot_fill_between(zeta)\n",
    "        time.sleep(0.001)\n",
    "        clear_output(True)\n",
    "        display(f)\n",
    "        ax.cla()\n",
    "    plt.close('all')\n",
    "    print('Done.');"
   ]
  },
  {
   "cell_type": "markdown",
   "metadata": {},
   "source": [
    "### B1-SWI Questions\n",
    " \n",
    "1. Based on the zeta observations plots and the animation above, has equilibrium been reached and are the zeta elevations stable?\n",
    "2. Determine the length of time it takes to achieve a stable zeta surface by rerunning the simulation using different values for `perlen` and `nstp`.\n",
    "3. What are some options for reducing the small oscillations seen in a few of the zeta observations?"
   ]
  },
  {
   "cell_type": "code",
   "execution_count": null,
   "metadata": {},
   "outputs": [],
   "source": []
  },
  {
   "cell_type": "code",
   "execution_count": null,
   "metadata": {},
   "outputs": [],
   "source": []
  },
  {
   "cell_type": "code",
   "execution_count": null,
   "metadata": {},
   "outputs": [],
   "source": []
  }
 ],
 "metadata": {
  "kernelspec": {
   "display_name": "Python 3",
   "language": "python",
   "name": "python3"
  },
  "language_info": {
   "codemirror_mode": {
    "name": "ipython",
    "version": 3
   },
   "file_extension": ".py",
   "mimetype": "text/x-python",
   "name": "python",
   "nbconvert_exporter": "python",
   "pygments_lexer": "ipython3",
   "version": "3.6.5"
  }
 },
 "nbformat": 4,
 "nbformat_minor": 1
}
