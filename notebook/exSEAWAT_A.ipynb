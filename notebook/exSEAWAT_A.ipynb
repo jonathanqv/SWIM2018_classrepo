{
 "cells": [
  {
   "cell_type": "markdown",
   "metadata": {},
   "source": [
    "![alt text](./img/header.png)\n",
    "\n",
    "# SEAWAT Exercise A: Henry Problem\n",
    "\n",
    "The purpose of this exercise is to use SEAWAT to simulate the classic Henry problem. As described in class, some people consider there to be two cases of the Henry problem—each with different values for molecular diffusion. Code developers often use the Henry problem to test variable-density programs because an analytical solution exists for the problem (Simpson, 2004, is probably the best solution). In addition to Henry’s original paper, information for the Henry problem can be found in Langevin et al. (2003, page 34) and Guo and Langevin (2002, page 70)."
   ]
  },
  {
   "cell_type": "markdown",
   "metadata": {},
   "source": [
    "## Part I. Setup Notebook"
   ]
  },
  {
   "cell_type": "code",
   "execution_count": null,
   "metadata": {
    "collapsed": false
   },
   "outputs": [],
   "source": [
    "# %load nbsetup.py\n",
    "%matplotlib inline\n",
    "from __future__ import print_function\n",
    "import sys\n",
    "import os\n",
    "import shutil\n",
    "import numpy as np\n",
    "import matplotlib.pyplot as plt\n",
    "import flopy\n",
    "import config"
   ]
  },
  {
   "cell_type": "code",
   "execution_count": null,
   "metadata": {
    "collapsed": true
   },
   "outputs": [],
   "source": [
    "# setup a model workspace directory\n",
    "model_ws = os.path.join('work', 'exSEAWAT_A')\n",
    "if not os.path.isdir(model_ws):\n",
    "    os.mkdir(model_ws)"
   ]
  },
  {
   "cell_type": "markdown",
   "metadata": {},
   "source": [
    "## Part II. Grid and Aquifer Properties"
   ]
  },
  {
   "cell_type": "code",
   "execution_count": null,
   "metadata": {
    "collapsed": false
   },
   "outputs": [],
   "source": [
    "# model grid information\n",
    "nlay = 10\n",
    "nrow = 1\n",
    "ncol = 21\n",
    "top = 1.\n",
    "bot = 0.\n",
    "dx = 2. / ncol\n",
    "dz = (top - bot) / nlay\n",
    "botm = np.array([[z] * ncol for z in np.arange(1-dz, 1-(nlay + 1) * dz, -dz)]).reshape((nlay, nrow, ncol))\n",
    "delr = np.array([dx] * ncol)\n",
    "delr[-1] = dx\n",
    "delc = 1"
   ]
  },
  {
   "cell_type": "code",
   "execution_count": null,
   "metadata": {
    "collapsed": false
   },
   "outputs": [],
   "source": []
  },
  {
   "cell_type": "code",
   "execution_count": null,
   "metadata": {
    "collapsed": true
   },
   "outputs": [],
   "source": [
    "# temporal discretization\n",
    "perlen = 0.15\n",
    "nstp = 1\n",
    "tsmult = 1.0\n",
    "ttsmult = 1.1"
   ]
  },
  {
   "cell_type": "code",
   "execution_count": null,
   "metadata": {
    "collapsed": false
   },
   "outputs": [],
   "source": [
    "# Input variables\n",
    "hk = 864.\n",
    "vk = 864.\n",
    "porosity = 0.35\n",
    "ss = 0.0001\n",
    "dmcoef = 1.629\n",
    "Qinflow = 5.702\n",
    "Csalt = 35.0001\n",
    "Cfresh = 0.\n",
    "densesalt = 1025.\n",
    "densefresh = 1000.\n",
    "denseslp = (densesalt - densefresh) / (Csalt - Cfresh)"
   ]
  },
  {
   "cell_type": "markdown",
   "metadata": {},
   "source": [
    "## Part III. Boundary Conditions"
   ]
  },
  {
   "cell_type": "code",
   "execution_count": null,
   "metadata": {
    "collapsed": false
   },
   "outputs": [],
   "source": [
    "# Create the data needed to make the constant head package\n",
    "chddata = []\n",
    "for k in range(nlay):\n",
    "    chddata.append([k, 0, ncol - 1, 1.0, 1.0])"
   ]
  },
  {
   "cell_type": "code",
   "execution_count": null,
   "metadata": {
    "collapsed": false
   },
   "outputs": [],
   "source": [
    "# Create the data needed to make the well package\n",
    "weldata = []\n",
    "wellQ = Qinflow / nlay\n",
    "for k in range(nlay):\n",
    "    weldata.append([k, 0, 0, wellQ])"
   ]
  },
  {
   "cell_type": "code",
   "execution_count": null,
   "metadata": {
    "collapsed": false
   },
   "outputs": [],
   "source": [
    "# create the ssm data\n",
    "itype = flopy.mt3d.Mt3dSsm.itype_dict()\n",
    "ssmdata = []\n",
    "for rec in chddata:\n",
    "    k = rec[0]\n",
    "    i = rec[1]\n",
    "    j = rec[2]\n",
    "    ssmdata.append([k, i, j, Csalt, itype['CHD']])\n",
    "for rec in weldata:\n",
    "    k = rec[0]\n",
    "    i = rec[1]\n",
    "    j = rec[2]\n",
    "    ssmdata.append([k, i, j, Cfresh, itype['WEL']])"
   ]
  },
  {
   "cell_type": "code",
   "execution_count": null,
   "metadata": {
    "collapsed": true
   },
   "outputs": [],
   "source": [
    "ssmdata = {0: ssmdata}\n",
    "chddata = {0: chddata}\n",
    "weldata = {0: weldata}"
   ]
  },
  {
   "cell_type": "markdown",
   "metadata": {},
   "source": [
    "## Part IV. Creating the FloPy Objects "
   ]
  },
  {
   "cell_type": "code",
   "execution_count": null,
   "metadata": {
    "collapsed": false
   },
   "outputs": [],
   "source": [
    "# create the flopy objects\n",
    "modelname = 'henry'\n",
    "m = flopy.seawat.Seawat(modelname, model_ws=model_ws, exe_name=config.swexe)\n",
    "\n",
    "# modflow packages\n",
    "dis = flopy.modflow.ModflowDis(m, nlay, nrow, ncol, nper=1, delr=delr,\n",
    "                               delc=delc, laycbd=0, top=top,\n",
    "                               botm=botm, perlen=perlen, nstp=nstp)\n",
    "bas = flopy.modflow.ModflowBas(m)\n",
    "lpf = flopy.modflow.ModflowLpf(m, hk=hk, vka=hk)\n",
    "chd = flopy.modflow.ModflowChd(m, stress_period_data=chddata)\n",
    "wel = flopy.modflow.ModflowWel(m, stress_period_data=weldata)\n",
    "pcg = flopy.modflow.ModflowPcg(m, hclose=1.e-8)\n",
    "oc = flopy.modflow.ModflowOc(m, stress_period_data={(0, 0): ['save head', 'save budget']},\n",
    "                             compact=True)\n",
    "\n",
    "# mt3d packages\n",
    "btn = flopy.mt3d.Mt3dBtn(m, nprs=-1, prsity=porosity, sconc=Csalt, ifmtcn=0,\n",
    "                         chkmas=False, nprobs=10, nprmas=10, dt0=1.e-4, ttsmult=ttsmult)\n",
    "adv = flopy.mt3d.Mt3dAdv(m, mixelm=0)\n",
    "dsp = flopy.mt3d.Mt3dDsp(m, al=0., trpt=1., trpv=1., dmcoef=dmcoef)\n",
    "gcg = flopy.mt3d.Mt3dGcg(m, iter1=500, mxiter=1, isolve=1, cclose=1e-7)\n",
    "ssm = flopy.mt3d.Mt3dSsm(m, stress_period_data=ssmdata)\n",
    "\n",
    "# seawat packages\n",
    "vdf = flopy.seawat.SeawatVdf(m, iwtable=0, densemin=0, densemax=0,\n",
    "                             denseref=densefresh, denseslp=denseslp, firstdt=1e-3)"
   ]
  },
  {
   "cell_type": "code",
   "execution_count": null,
   "metadata": {
    "collapsed": false
   },
   "outputs": [],
   "source": [
    "# make a cross section plot of grid and boundaries\n",
    "plt.figure(figsize=(10,5))\n",
    "xs = flopy.plot.ModelCrossSection(model=m, line={'row': 0})\n",
    "xs.plot_grid()\n",
    "xs.plot_bc(package=wel, color='red')\n",
    "xs.plot_bc(package=chd, color='k');"
   ]
  },
  {
   "cell_type": "code",
   "execution_count": null,
   "metadata": {
    "collapsed": true
   },
   "outputs": [],
   "source": [
    "# write the SEAWAT input files\n",
    "m.write_input()"
   ]
  },
  {
   "cell_type": "markdown",
   "metadata": {},
   "source": [
    "## Part V. Running the Model"
   ]
  },
  {
   "cell_type": "code",
   "execution_count": null,
   "metadata": {
    "collapsed": false
   },
   "outputs": [],
   "source": [
    "try:\n",
    "    os.remove(os.path.join(model_ws, 'MT3D001.UCN'))\n",
    "except:\n",
    "    pass\n",
    "m.run_model(silent=True)"
   ]
  },
  {
   "cell_type": "markdown",
   "metadata": {},
   "source": [
    "## Part VI. Importing and Plotting Results"
   ]
  },
  {
   "cell_type": "code",
   "execution_count": null,
   "metadata": {
    "collapsed": false
   },
   "outputs": [],
   "source": [
    "fname = os.path.join(model_ws, 'MT3D001.UCN')\n",
    "ucnobj = flopy.utils.UcnFile(fname)\n",
    "times = ucnobj.get_times()\n",
    "conc = ucnobj.get_data(totim=times[-1])\n",
    "plt.figure(figsize=(10,5))\n",
    "xs = flopy.plot.ModelCrossSection(model=m, line={'row': 0})\n",
    "xs.plot_grid()\n",
    "xs.plot_array(conc, vmin=Cfresh, vmax=Csalt)"
   ]
  },
  {
   "cell_type": "markdown",
   "metadata": {},
   "source": [
    "## Part VI. Animate Results"
   ]
  },
  {
   "cell_type": "code",
   "execution_count": null,
   "metadata": {
    "collapsed": false
   },
   "outputs": [],
   "source": [
    "import time\n",
    "from IPython.display import clear_output, display\n",
    "animate = False\n",
    "if animate:\n",
    "    f = plt.figure(figsize=(10, 5))\n",
    "    ax = plt.subplot(1, 1, 1)\n",
    "    for i, t in enumerate(ucnobj.get_times()):\n",
    "        conc = ucnobj.get_data(totim=times[i])\n",
    "        ax.set_title(\"totim:{0:5.4f}\".format(t))\n",
    "        xs = flopy.plot.ModelCrossSection(ax=ax, model=m, line={'row': 0})\n",
    "        xs.plot_array(conc, vmin=Cfresh, vmax=Csalt)\n",
    "        time.sleep(0.01)\n",
    "        clear_output(True)\n",
    "        display(f)\n",
    "        ax.cla()\n",
    "    print('Done.');"
   ]
  },
  {
   "cell_type": "markdown",
   "metadata": {},
   "source": [
    "## Part VII. Questions\n",
    "\n",
    "1. Can you run this problem without including the effects of fluid density?\n",
    "2. Try setting the molecular diffusion value to zero and running the simulation.  Does this give us any insight into numerical dispersion?\n",
    "2. Try running the modified Henry problem described by Simpson and Clement (2003, 2004), which requires cutting the inflow rate in half.\n",
    "3. Experiment with different grid resolution.  How does this change the simulated salinity distribution?\n",
    "4. What about temporal resolution?  Are the simulated salinity values affected by the size of the time step?\n",
    "5. TVD is a powerful tranpsort solution scheme avaiable in MT3D.  It is specified in the advection package.  Can you figure out how to run this problem using TVD?\n",
    "6. Time permitting, try looking at the simulated salinities using ModelViewer."
   ]
  },
  {
   "cell_type": "markdown",
   "metadata": {},
   "source": [
    "## Part VII. Cleanup"
   ]
  },
  {
   "cell_type": "code",
   "execution_count": null,
   "metadata": {
    "collapsed": true
   },
   "outputs": [],
   "source": [
    "# clean up\n",
    "#if os.path.isdir(model_ws):\n",
    "#    shutil.rmtree(model_ws)"
   ]
  },
  {
   "cell_type": "code",
   "execution_count": null,
   "metadata": {
    "collapsed": true
   },
   "outputs": [],
   "source": []
  }
 ],
 "metadata": {
  "kernelspec": {
   "display_name": "Python 3",
   "language": "python",
   "name": "python3"
  },
  "language_info": {
   "codemirror_mode": {
    "name": "ipython",
    "version": 3
   },
   "file_extension": ".py",
   "mimetype": "text/x-python",
   "name": "python",
   "nbconvert_exporter": "python",
   "pygments_lexer": "ipython3",
   "version": "3.5.1"
  }
 },
 "nbformat": 4,
 "nbformat_minor": 0
}
